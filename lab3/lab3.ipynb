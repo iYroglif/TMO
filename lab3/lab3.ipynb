{
 "cells": [
  {
   "cell_type": "markdown",
   "metadata": {},
   "source": [
    "# Лабораторная работа №3\n",
    "## Подготовка обучающей и тестовой выборки, кросс-валидация и подбор гиперпараметров на примере метода ближайших соседей\n",
    "## Импорт библиотек"
   ]
  },
  {
   "cell_type": "code",
   "execution_count": 1,
   "metadata": {},
   "outputs": [],
   "source": [
    "import numpy as np\n",
    "import pandas as pd\n",
    "import seaborn as sns\n",
    "import matplotlib.pyplot as plt"
   ]
  },
  {
   "cell_type": "markdown",
   "metadata": {},
   "source": [
    "## Загрузка данных\n",
    "В качестве набора данных использован набор данных по предсказанию уровня солнечной радиации - https://www.kaggle.com/dronio/SolarEnergy"
   ]
  },
  {
   "cell_type": "code",
   "execution_count": 2,
   "metadata": {},
   "outputs": [
    {
     "data": {
      "text/html": [
       "<div>\n",
       "<style scoped>\n",
       "    .dataframe tbody tr th:only-of-type {\n",
       "        vertical-align: middle;\n",
       "    }\n",
       "\n",
       "    .dataframe tbody tr th {\n",
       "        vertical-align: top;\n",
       "    }\n",
       "\n",
       "    .dataframe thead th {\n",
       "        text-align: right;\n",
       "    }\n",
       "</style>\n",
       "<table border=\"1\" class=\"dataframe\">\n",
       "  <thead>\n",
       "    <tr style=\"text-align: right;\">\n",
       "      <th></th>\n",
       "      <th>Time(Seconds)</th>\n",
       "      <th>Radiation</th>\n",
       "      <th>Temperature</th>\n",
       "      <th>Pressure</th>\n",
       "      <th>Humidity</th>\n",
       "      <th>WindDirection(Degrees)</th>\n",
       "      <th>Speed</th>\n",
       "      <th>TimeSunRise(Seconds)</th>\n",
       "      <th>DayLenght(Seconds)</th>\n",
       "      <th>10</th>\n",
       "      <th>11</th>\n",
       "      <th>12</th>\n",
       "      <th>9</th>\n",
       "    </tr>\n",
       "  </thead>\n",
       "  <tbody>\n",
       "    <tr>\n",
       "      <th>0</th>\n",
       "      <td>86126</td>\n",
       "      <td>1.21</td>\n",
       "      <td>48</td>\n",
       "      <td>30.46</td>\n",
       "      <td>59</td>\n",
       "      <td>177.39</td>\n",
       "      <td>5.62</td>\n",
       "      <td>22380.0</td>\n",
       "      <td>43200.0</td>\n",
       "      <td>0</td>\n",
       "      <td>0</td>\n",
       "      <td>0</td>\n",
       "      <td>1</td>\n",
       "    </tr>\n",
       "    <tr>\n",
       "      <th>1</th>\n",
       "      <td>85823</td>\n",
       "      <td>1.21</td>\n",
       "      <td>48</td>\n",
       "      <td>30.46</td>\n",
       "      <td>58</td>\n",
       "      <td>176.78</td>\n",
       "      <td>3.37</td>\n",
       "      <td>22380.0</td>\n",
       "      <td>43200.0</td>\n",
       "      <td>0</td>\n",
       "      <td>0</td>\n",
       "      <td>0</td>\n",
       "      <td>1</td>\n",
       "    </tr>\n",
       "    <tr>\n",
       "      <th>2</th>\n",
       "      <td>85526</td>\n",
       "      <td>1.23</td>\n",
       "      <td>48</td>\n",
       "      <td>30.46</td>\n",
       "      <td>57</td>\n",
       "      <td>158.75</td>\n",
       "      <td>3.37</td>\n",
       "      <td>22380.0</td>\n",
       "      <td>43200.0</td>\n",
       "      <td>0</td>\n",
       "      <td>0</td>\n",
       "      <td>0</td>\n",
       "      <td>1</td>\n",
       "    </tr>\n",
       "    <tr>\n",
       "      <th>3</th>\n",
       "      <td>85221</td>\n",
       "      <td>1.21</td>\n",
       "      <td>48</td>\n",
       "      <td>30.46</td>\n",
       "      <td>60</td>\n",
       "      <td>137.71</td>\n",
       "      <td>3.37</td>\n",
       "      <td>22380.0</td>\n",
       "      <td>43200.0</td>\n",
       "      <td>0</td>\n",
       "      <td>0</td>\n",
       "      <td>0</td>\n",
       "      <td>1</td>\n",
       "    </tr>\n",
       "    <tr>\n",
       "      <th>4</th>\n",
       "      <td>84924</td>\n",
       "      <td>1.17</td>\n",
       "      <td>48</td>\n",
       "      <td>30.46</td>\n",
       "      <td>62</td>\n",
       "      <td>104.95</td>\n",
       "      <td>5.62</td>\n",
       "      <td>22380.0</td>\n",
       "      <td>43200.0</td>\n",
       "      <td>0</td>\n",
       "      <td>0</td>\n",
       "      <td>0</td>\n",
       "      <td>1</td>\n",
       "    </tr>\n",
       "  </tbody>\n",
       "</table>\n",
       "</div>"
      ],
      "text/plain": [
       "   Time(Seconds)  Radiation  Temperature  Pressure  Humidity  \\\n",
       "0          86126       1.21           48     30.46        59   \n",
       "1          85823       1.21           48     30.46        58   \n",
       "2          85526       1.23           48     30.46        57   \n",
       "3          85221       1.21           48     30.46        60   \n",
       "4          84924       1.17           48     30.46        62   \n",
       "\n",
       "   WindDirection(Degrees)  Speed  TimeSunRise(Seconds)  DayLenght(Seconds)  \\\n",
       "0                  177.39   5.62               22380.0             43200.0   \n",
       "1                  176.78   3.37               22380.0             43200.0   \n",
       "2                  158.75   3.37               22380.0             43200.0   \n",
       "3                  137.71   3.37               22380.0             43200.0   \n",
       "4                  104.95   5.62               22380.0             43200.0   \n",
       "\n",
       "   10  11  12  9  \n",
       "0   0   0   0  1  \n",
       "1   0   0   0  1  \n",
       "2   0   0   0  1  \n",
       "3   0   0   0  1  \n",
       "4   0   0   0  1  "
      ]
     },
     "execution_count": 2,
     "metadata": {},
     "output_type": "execute_result"
    }
   ],
   "source": [
    "from datetime import timedelta\n",
    "data = pd.read_csv('SolarPrediction.csv', sep=\",\")\n",
    "# Преобразование данных датасета в нужный формат\n",
    "data['Data'] = pd.to_datetime(data['UNIXTime'], unit='s') + pd.DateOffset(hours=-10)\n",
    "data['UNIXTime'] = data['Data'].dt.month\n",
    "data.rename(columns={'UNIXTime': 'Month'}, inplace = True)\n",
    "data['Data'] = data['Data'].dt.second + data['Data'].dt.minute*60 + data['Data'].dt.hour*60*60\n",
    "data.rename(columns={'Data': 'Time(Seconds)'}, inplace = True)\n",
    "data['TimeSunRise'] = pd.to_datetime(data['TimeSunRise'], format='%H:%M:%S').dt.time\n",
    "data['TimeSunSet'] = pd.to_datetime(data['TimeSunSet'], format='%H:%M:%S').dt.time\n",
    "data['TimeSunSet'] = (pd.to_timedelta(data['TimeSunSet'].astype(str)) - pd.to_timedelta(data['TimeSunRise'].astype(str))).dt.total_seconds()\n",
    "data.rename(columns={'TimeSunSet': 'DayLenght(Seconds)'}, inplace = True)\n",
    "data['TimeSunRise'] = pd.to_timedelta(data['TimeSunRise'].astype(str)).dt.total_seconds()\n",
    "data.rename(columns={'TimeSunRise': 'TimeSunRise(Seconds)'}, inplace = True)\n",
    "# Удаление ненужных столбцов\n",
    "data.drop(['Time'], inplace=True, axis=1)\n",
    "data = data.join(pd.get_dummies(data['Month'].astype(str)))\n",
    "data.drop(['Month'], inplace=True, axis=1)\n",
    "# Первые 5 строк датасета\n",
    "data.head()"
   ]
  },
  {
   "cell_type": "markdown",
   "metadata": {},
   "source": [
    "## Масштабирование данных"
   ]
  },
  {
   "cell_type": "code",
   "execution_count": 3,
   "metadata": {},
   "outputs": [
    {
     "data": {
      "text/html": [
       "<div>\n",
       "<style scoped>\n",
       "    .dataframe tbody tr th:only-of-type {\n",
       "        vertical-align: middle;\n",
       "    }\n",
       "\n",
       "    .dataframe tbody tr th {\n",
       "        vertical-align: top;\n",
       "    }\n",
       "\n",
       "    .dataframe thead th {\n",
       "        text-align: right;\n",
       "    }\n",
       "</style>\n",
       "<table border=\"1\" class=\"dataframe\">\n",
       "  <thead>\n",
       "    <tr style=\"text-align: right;\">\n",
       "      <th></th>\n",
       "      <th>Time(Seconds)</th>\n",
       "      <th>Radiation</th>\n",
       "      <th>Temperature</th>\n",
       "      <th>Pressure</th>\n",
       "      <th>Humidity</th>\n",
       "      <th>WindDirection(Degrees)</th>\n",
       "      <th>Speed</th>\n",
       "      <th>TimeSunRise(Seconds)</th>\n",
       "      <th>DayLenght(Seconds)</th>\n",
       "      <th>10</th>\n",
       "      <th>11</th>\n",
       "      <th>12</th>\n",
       "      <th>9</th>\n",
       "    </tr>\n",
       "  </thead>\n",
       "  <tbody>\n",
       "    <tr>\n",
       "      <th>0</th>\n",
       "      <td>0.999315</td>\n",
       "      <td>1.21</td>\n",
       "      <td>0.378378</td>\n",
       "      <td>0.72973</td>\n",
       "      <td>0.536842</td>\n",
       "      <td>0.492692</td>\n",
       "      <td>0.138765</td>\n",
       "      <td>0.12</td>\n",
       "      <td>0.673684</td>\n",
       "      <td>0</td>\n",
       "      <td>0</td>\n",
       "      <td>0</td>\n",
       "      <td>1</td>\n",
       "    </tr>\n",
       "    <tr>\n",
       "      <th>1</th>\n",
       "      <td>0.995800</td>\n",
       "      <td>1.21</td>\n",
       "      <td>0.378378</td>\n",
       "      <td>0.72973</td>\n",
       "      <td>0.526316</td>\n",
       "      <td>0.490996</td>\n",
       "      <td>0.083210</td>\n",
       "      <td>0.12</td>\n",
       "      <td>0.673684</td>\n",
       "      <td>0</td>\n",
       "      <td>0</td>\n",
       "      <td>0</td>\n",
       "      <td>1</td>\n",
       "    </tr>\n",
       "    <tr>\n",
       "      <th>2</th>\n",
       "      <td>0.992354</td>\n",
       "      <td>1.23</td>\n",
       "      <td>0.378378</td>\n",
       "      <td>0.72973</td>\n",
       "      <td>0.515789</td>\n",
       "      <td>0.440894</td>\n",
       "      <td>0.083210</td>\n",
       "      <td>0.12</td>\n",
       "      <td>0.673684</td>\n",
       "      <td>0</td>\n",
       "      <td>0</td>\n",
       "      <td>0</td>\n",
       "      <td>1</td>\n",
       "    </tr>\n",
       "    <tr>\n",
       "      <th>3</th>\n",
       "      <td>0.988815</td>\n",
       "      <td>1.21</td>\n",
       "      <td>0.378378</td>\n",
       "      <td>0.72973</td>\n",
       "      <td>0.547368</td>\n",
       "      <td>0.382426</td>\n",
       "      <td>0.083210</td>\n",
       "      <td>0.12</td>\n",
       "      <td>0.673684</td>\n",
       "      <td>0</td>\n",
       "      <td>0</td>\n",
       "      <td>0</td>\n",
       "      <td>1</td>\n",
       "    </tr>\n",
       "    <tr>\n",
       "      <th>4</th>\n",
       "      <td>0.985369</td>\n",
       "      <td>1.17</td>\n",
       "      <td>0.378378</td>\n",
       "      <td>0.72973</td>\n",
       "      <td>0.568421</td>\n",
       "      <td>0.291391</td>\n",
       "      <td>0.138765</td>\n",
       "      <td>0.12</td>\n",
       "      <td>0.673684</td>\n",
       "      <td>0</td>\n",
       "      <td>0</td>\n",
       "      <td>0</td>\n",
       "      <td>1</td>\n",
       "    </tr>\n",
       "  </tbody>\n",
       "</table>\n",
       "</div>"
      ],
      "text/plain": [
       "   Time(Seconds)  Radiation  Temperature  Pressure  Humidity  \\\n",
       "0       0.999315       1.21     0.378378   0.72973  0.536842   \n",
       "1       0.995800       1.21     0.378378   0.72973  0.526316   \n",
       "2       0.992354       1.23     0.378378   0.72973  0.515789   \n",
       "3       0.988815       1.21     0.378378   0.72973  0.547368   \n",
       "4       0.985369       1.17     0.378378   0.72973  0.568421   \n",
       "\n",
       "   WindDirection(Degrees)     Speed  TimeSunRise(Seconds)  DayLenght(Seconds)  \\\n",
       "0                0.492692  0.138765                  0.12            0.673684   \n",
       "1                0.490996  0.083210                  0.12            0.673684   \n",
       "2                0.440894  0.083210                  0.12            0.673684   \n",
       "3                0.382426  0.083210                  0.12            0.673684   \n",
       "4                0.291391  0.138765                  0.12            0.673684   \n",
       "\n",
       "   10  11  12  9  \n",
       "0   0   0   0  1  \n",
       "1   0   0   0  1  \n",
       "2   0   0   0  1  \n",
       "3   0   0   0  1  \n",
       "4   0   0   0  1  "
      ]
     },
     "execution_count": 3,
     "metadata": {},
     "output_type": "execute_result"
    }
   ],
   "source": [
    "from sklearn.preprocessing import MinMaxScaler\n",
    "# MinMax масштабирование\n",
    "sc1 = MinMaxScaler()\n",
    "for item in ['Time(Seconds)', 'Temperature', 'Pressure', 'Humidity', 'WindDirection(Degrees)', 'Speed', 'TimeSunRise(Seconds)', 'DayLenght(Seconds)']:\n",
    "    data.loc[:, item] = sc1.fit_transform(data[[item]])\n",
    "# Первые 5 строк получившегося датасета\n",
    "data.head()"
   ]
  },
  {
   "cell_type": "markdown",
   "metadata": {},
   "source": [
    "## Разделение выборки на обучающую и тестовую\n",
    "С использованием метода train_test_split"
   ]
  },
  {
   "cell_type": "code",
   "execution_count": 4,
   "metadata": {},
   "outputs": [
    {
     "data": {
      "text/html": [
       "<div>\n",
       "<style scoped>\n",
       "    .dataframe tbody tr th:only-of-type {\n",
       "        vertical-align: middle;\n",
       "    }\n",
       "\n",
       "    .dataframe tbody tr th {\n",
       "        vertical-align: top;\n",
       "    }\n",
       "\n",
       "    .dataframe thead th {\n",
       "        text-align: right;\n",
       "    }\n",
       "</style>\n",
       "<table border=\"1\" class=\"dataframe\">\n",
       "  <thead>\n",
       "    <tr style=\"text-align: right;\">\n",
       "      <th></th>\n",
       "      <th>Time(Seconds)</th>\n",
       "      <th>Temperature</th>\n",
       "      <th>Pressure</th>\n",
       "      <th>Humidity</th>\n",
       "      <th>WindDirection(Degrees)</th>\n",
       "      <th>Speed</th>\n",
       "      <th>TimeSunRise(Seconds)</th>\n",
       "      <th>DayLenght(Seconds)</th>\n",
       "      <th>10</th>\n",
       "      <th>11</th>\n",
       "      <th>12</th>\n",
       "      <th>9</th>\n",
       "    </tr>\n",
       "  </thead>\n",
       "  <tbody>\n",
       "    <tr>\n",
       "      <th>19310</th>\n",
       "      <td>0.115068</td>\n",
       "      <td>0.243243</td>\n",
       "      <td>0.567568</td>\n",
       "      <td>0.515789</td>\n",
       "      <td>0.443256</td>\n",
       "      <td>0.055556</td>\n",
       "      <td>0.54</td>\n",
       "      <td>0.126316</td>\n",
       "      <td>0</td>\n",
       "      <td>1</td>\n",
       "      <td>0</td>\n",
       "      <td>0</td>\n",
       "    </tr>\n",
       "    <tr>\n",
       "      <th>19368</th>\n",
       "      <td>0.915669</td>\n",
       "      <td>0.378378</td>\n",
       "      <td>0.675676</td>\n",
       "      <td>0.915789</td>\n",
       "      <td>0.307286</td>\n",
       "      <td>0.194321</td>\n",
       "      <td>0.52</td>\n",
       "      <td>0.147368</td>\n",
       "      <td>0</td>\n",
       "      <td>1</td>\n",
       "      <td>0</td>\n",
       "      <td>0</td>\n",
       "    </tr>\n",
       "    <tr>\n",
       "      <th>12448</th>\n",
       "      <td>0.428432</td>\n",
       "      <td>0.783784</td>\n",
       "      <td>0.783784</td>\n",
       "      <td>0.442105</td>\n",
       "      <td>0.164564</td>\n",
       "      <td>0.305432</td>\n",
       "      <td>0.20</td>\n",
       "      <td>0.494737</td>\n",
       "      <td>1</td>\n",
       "      <td>0</td>\n",
       "      <td>0</td>\n",
       "      <td>0</td>\n",
       "    </tr>\n",
       "    <tr>\n",
       "      <th>18105</th>\n",
       "      <td>0.302864</td>\n",
       "      <td>0.297297</td>\n",
       "      <td>0.621622</td>\n",
       "      <td>0.968421</td>\n",
       "      <td>0.458651</td>\n",
       "      <td>0.194321</td>\n",
       "      <td>0.58</td>\n",
       "      <td>0.105263</td>\n",
       "      <td>0</td>\n",
       "      <td>1</td>\n",
       "      <td>0</td>\n",
       "      <td>0</td>\n",
       "    </tr>\n",
       "    <tr>\n",
       "      <th>24541</th>\n",
       "      <td>0.932899</td>\n",
       "      <td>0.189189</td>\n",
       "      <td>0.432432</td>\n",
       "      <td>0.747368</td>\n",
       "      <td>0.573084</td>\n",
       "      <td>0.222222</td>\n",
       "      <td>1.00</td>\n",
       "      <td>0.010526</td>\n",
       "      <td>0</td>\n",
       "      <td>0</td>\n",
       "      <td>1</td>\n",
       "      <td>0</td>\n",
       "    </tr>\n",
       "    <tr>\n",
       "      <th>...</th>\n",
       "      <td>...</td>\n",
       "      <td>...</td>\n",
       "      <td>...</td>\n",
       "      <td>...</td>\n",
       "      <td>...</td>\n",
       "      <td>...</td>\n",
       "      <td>...</td>\n",
       "      <td>...</td>\n",
       "      <td>...</td>\n",
       "      <td>...</td>\n",
       "      <td>...</td>\n",
       "      <td>...</td>\n",
       "    </tr>\n",
       "    <tr>\n",
       "      <th>32511</th>\n",
       "      <td>0.605692</td>\n",
       "      <td>0.297297</td>\n",
       "      <td>0.540541</td>\n",
       "      <td>0.894737</td>\n",
       "      <td>0.269688</td>\n",
       "      <td>0.083210</td>\n",
       "      <td>0.68</td>\n",
       "      <td>0.052632</td>\n",
       "      <td>0</td>\n",
       "      <td>0</td>\n",
       "      <td>1</td>\n",
       "      <td>0</td>\n",
       "    </tr>\n",
       "    <tr>\n",
       "      <th>5192</th>\n",
       "      <td>0.679047</td>\n",
       "      <td>0.567568</td>\n",
       "      <td>0.459459</td>\n",
       "      <td>0.926316</td>\n",
       "      <td>0.187962</td>\n",
       "      <td>0.166667</td>\n",
       "      <td>0.04</td>\n",
       "      <td>0.894737</td>\n",
       "      <td>0</td>\n",
       "      <td>0</td>\n",
       "      <td>0</td>\n",
       "      <td>1</td>\n",
       "    </tr>\n",
       "    <tr>\n",
       "      <th>12172</th>\n",
       "      <td>0.407477</td>\n",
       "      <td>0.864865</td>\n",
       "      <td>0.864865</td>\n",
       "      <td>0.084211</td>\n",
       "      <td>0.158395</td>\n",
       "      <td>0.138765</td>\n",
       "      <td>0.20</td>\n",
       "      <td>0.484211</td>\n",
       "      <td>1</td>\n",
       "      <td>0</td>\n",
       "      <td>0</td>\n",
       "      <td>0</td>\n",
       "    </tr>\n",
       "    <tr>\n",
       "      <th>235</th>\n",
       "      <td>0.174290</td>\n",
       "      <td>0.324324</td>\n",
       "      <td>0.540541</td>\n",
       "      <td>0.389474</td>\n",
       "      <td>0.521230</td>\n",
       "      <td>0.166667</td>\n",
       "      <td>0.12</td>\n",
       "      <td>0.673684</td>\n",
       "      <td>0</td>\n",
       "      <td>0</td>\n",
       "      <td>0</td>\n",
       "      <td>1</td>\n",
       "    </tr>\n",
       "    <tr>\n",
       "      <th>29733</th>\n",
       "      <td>0.856319</td>\n",
       "      <td>0.189189</td>\n",
       "      <td>0.351351</td>\n",
       "      <td>0.968421</td>\n",
       "      <td>0.486467</td>\n",
       "      <td>0.111111</td>\n",
       "      <td>0.82</td>\n",
       "      <td>0.010526</td>\n",
       "      <td>0</td>\n",
       "      <td>0</td>\n",
       "      <td>1</td>\n",
       "      <td>0</td>\n",
       "    </tr>\n",
       "  </tbody>\n",
       "</table>\n",
       "<p>24514 rows × 12 columns</p>\n",
       "</div>"
      ],
      "text/plain": [
       "       Time(Seconds)  Temperature  Pressure  Humidity  WindDirection(Degrees)  \\\n",
       "19310       0.115068     0.243243  0.567568  0.515789                0.443256   \n",
       "19368       0.915669     0.378378  0.675676  0.915789                0.307286   \n",
       "12448       0.428432     0.783784  0.783784  0.442105                0.164564   \n",
       "18105       0.302864     0.297297  0.621622  0.968421                0.458651   \n",
       "24541       0.932899     0.189189  0.432432  0.747368                0.573084   \n",
       "...              ...          ...       ...       ...                     ...   \n",
       "32511       0.605692     0.297297  0.540541  0.894737                0.269688   \n",
       "5192        0.679047     0.567568  0.459459  0.926316                0.187962   \n",
       "12172       0.407477     0.864865  0.864865  0.084211                0.158395   \n",
       "235         0.174290     0.324324  0.540541  0.389474                0.521230   \n",
       "29733       0.856319     0.189189  0.351351  0.968421                0.486467   \n",
       "\n",
       "          Speed  TimeSunRise(Seconds)  DayLenght(Seconds)  10  11  12  9  \n",
       "19310  0.055556                  0.54            0.126316   0   1   0  0  \n",
       "19368  0.194321                  0.52            0.147368   0   1   0  0  \n",
       "12448  0.305432                  0.20            0.494737   1   0   0  0  \n",
       "18105  0.194321                  0.58            0.105263   0   1   0  0  \n",
       "24541  0.222222                  1.00            0.010526   0   0   1  0  \n",
       "...         ...                   ...                 ...  ..  ..  .. ..  \n",
       "32511  0.083210                  0.68            0.052632   0   0   1  0  \n",
       "5192   0.166667                  0.04            0.894737   0   0   0  1  \n",
       "12172  0.138765                  0.20            0.484211   1   0   0  0  \n",
       "235    0.166667                  0.12            0.673684   0   0   0  1  \n",
       "29733  0.111111                  0.82            0.010526   0   0   1  0  \n",
       "\n",
       "[24514 rows x 12 columns]"
      ]
     },
     "execution_count": 4,
     "metadata": {},
     "output_type": "execute_result"
    }
   ],
   "source": [
    "from sklearn.model_selection import train_test_split\n",
    "data_train, data_test, data_y_train, data_y_test = train_test_split(data[['Time(Seconds)', 'Temperature', 'Pressure', 'Humidity', 'WindDirection(Degrees)', 'Speed', 'TimeSunRise(Seconds)', 'DayLenght(Seconds)', '10', '11', '12', '9']], data['Radiation'], random_state=1)\n",
    "# Обучающая выборка\n",
    "data_train"
   ]
  },
  {
   "cell_type": "code",
   "execution_count": 5,
   "metadata": {},
   "outputs": [
    {
     "data": {
      "text/html": [
       "<div>\n",
       "<style scoped>\n",
       "    .dataframe tbody tr th:only-of-type {\n",
       "        vertical-align: middle;\n",
       "    }\n",
       "\n",
       "    .dataframe tbody tr th {\n",
       "        vertical-align: top;\n",
       "    }\n",
       "\n",
       "    .dataframe thead th {\n",
       "        text-align: right;\n",
       "    }\n",
       "</style>\n",
       "<table border=\"1\" class=\"dataframe\">\n",
       "  <thead>\n",
       "    <tr style=\"text-align: right;\">\n",
       "      <th></th>\n",
       "      <th>Time(Seconds)</th>\n",
       "      <th>Temperature</th>\n",
       "      <th>Pressure</th>\n",
       "      <th>Humidity</th>\n",
       "      <th>WindDirection(Degrees)</th>\n",
       "      <th>Speed</th>\n",
       "      <th>TimeSunRise(Seconds)</th>\n",
       "      <th>DayLenght(Seconds)</th>\n",
       "      <th>10</th>\n",
       "      <th>11</th>\n",
       "      <th>12</th>\n",
       "      <th>9</th>\n",
       "    </tr>\n",
       "  </thead>\n",
       "  <tbody>\n",
       "    <tr>\n",
       "      <th>22830</th>\n",
       "      <td>0.891151</td>\n",
       "      <td>0.540541</td>\n",
       "      <td>0.810811</td>\n",
       "      <td>0.157895</td>\n",
       "      <td>0.622381</td>\n",
       "      <td>0.194321</td>\n",
       "      <td>0.38</td>\n",
       "      <td>0.252632</td>\n",
       "      <td>0</td>\n",
       "      <td>1</td>\n",
       "      <td>0</td>\n",
       "      <td>0</td>\n",
       "    </tr>\n",
       "    <tr>\n",
       "      <th>17281</th>\n",
       "      <td>0.174069</td>\n",
       "      <td>0.189189</td>\n",
       "      <td>0.648649</td>\n",
       "      <td>0.505263</td>\n",
       "      <td>0.304452</td>\n",
       "      <td>0.249877</td>\n",
       "      <td>0.62</td>\n",
       "      <td>0.084211</td>\n",
       "      <td>0</td>\n",
       "      <td>1</td>\n",
       "      <td>0</td>\n",
       "      <td>0</td>\n",
       "    </tr>\n",
       "    <tr>\n",
       "      <th>6136</th>\n",
       "      <td>0.682284</td>\n",
       "      <td>0.702703</td>\n",
       "      <td>0.567568</td>\n",
       "      <td>0.873684</td>\n",
       "      <td>0.856027</td>\n",
       "      <td>0.166667</td>\n",
       "      <td>0.02</td>\n",
       "      <td>0.957895</td>\n",
       "      <td>0</td>\n",
       "      <td>0</td>\n",
       "      <td>0</td>\n",
       "      <td>1</td>\n",
       "    </tr>\n",
       "    <tr>\n",
       "      <th>17582</th>\n",
       "      <td>0.121879</td>\n",
       "      <td>0.324324</td>\n",
       "      <td>0.729730</td>\n",
       "      <td>0.968421</td>\n",
       "      <td>0.386456</td>\n",
       "      <td>0.166667</td>\n",
       "      <td>0.60</td>\n",
       "      <td>0.094737</td>\n",
       "      <td>0</td>\n",
       "      <td>1</td>\n",
       "      <td>0</td>\n",
       "      <td>0</td>\n",
       "    </tr>\n",
       "    <tr>\n",
       "      <th>20747</th>\n",
       "      <td>0.121844</td>\n",
       "      <td>0.297297</td>\n",
       "      <td>0.675676</td>\n",
       "      <td>0.210526</td>\n",
       "      <td>0.468654</td>\n",
       "      <td>0.111111</td>\n",
       "      <td>0.48</td>\n",
       "      <td>0.168421</td>\n",
       "      <td>0</td>\n",
       "      <td>1</td>\n",
       "      <td>0</td>\n",
       "      <td>0</td>\n",
       "    </tr>\n",
       "    <tr>\n",
       "      <th>...</th>\n",
       "      <td>...</td>\n",
       "      <td>...</td>\n",
       "      <td>...</td>\n",
       "      <td>...</td>\n",
       "      <td>...</td>\n",
       "      <td>...</td>\n",
       "      <td>...</td>\n",
       "      <td>...</td>\n",
       "      <td>...</td>\n",
       "      <td>...</td>\n",
       "      <td>...</td>\n",
       "      <td>...</td>\n",
       "    </tr>\n",
       "    <tr>\n",
       "      <th>15333</th>\n",
       "      <td>0.212568</td>\n",
       "      <td>0.405405</td>\n",
       "      <td>0.621622</td>\n",
       "      <td>0.905263</td>\n",
       "      <td>0.556494</td>\n",
       "      <td>0.083210</td>\n",
       "      <td>0.14</td>\n",
       "      <td>0.610526</td>\n",
       "      <td>1</td>\n",
       "      <td>0</td>\n",
       "      <td>0</td>\n",
       "      <td>0</td>\n",
       "    </tr>\n",
       "    <tr>\n",
       "      <th>13404</th>\n",
       "      <td>0.052516</td>\n",
       "      <td>0.486486</td>\n",
       "      <td>0.594595</td>\n",
       "      <td>0.978947</td>\n",
       "      <td>0.345968</td>\n",
       "      <td>0.194321</td>\n",
       "      <td>0.18</td>\n",
       "      <td>0.536842</td>\n",
       "      <td>1</td>\n",
       "      <td>0</td>\n",
       "      <td>0</td>\n",
       "      <td>0</td>\n",
       "    </tr>\n",
       "    <tr>\n",
       "      <th>7928</th>\n",
       "      <td>0.219484</td>\n",
       "      <td>0.351351</td>\n",
       "      <td>0.594595</td>\n",
       "      <td>0.989474</td>\n",
       "      <td>0.440977</td>\n",
       "      <td>0.138765</td>\n",
       "      <td>0.32</td>\n",
       "      <td>0.315789</td>\n",
       "      <td>1</td>\n",
       "      <td>0</td>\n",
       "      <td>0</td>\n",
       "      <td>0</td>\n",
       "    </tr>\n",
       "    <tr>\n",
       "      <th>7857</th>\n",
       "      <td>0.466630</td>\n",
       "      <td>0.459459</td>\n",
       "      <td>0.756757</td>\n",
       "      <td>0.957895</td>\n",
       "      <td>0.199994</td>\n",
       "      <td>0.333333</td>\n",
       "      <td>0.32</td>\n",
       "      <td>0.315789</td>\n",
       "      <td>1</td>\n",
       "      <td>0</td>\n",
       "      <td>0</td>\n",
       "      <td>0</td>\n",
       "    </tr>\n",
       "    <tr>\n",
       "      <th>24538</th>\n",
       "      <td>0.943331</td>\n",
       "      <td>0.189189</td>\n",
       "      <td>0.432432</td>\n",
       "      <td>0.747368</td>\n",
       "      <td>0.605791</td>\n",
       "      <td>0.166667</td>\n",
       "      <td>1.00</td>\n",
       "      <td>0.010526</td>\n",
       "      <td>0</td>\n",
       "      <td>0</td>\n",
       "      <td>1</td>\n",
       "      <td>0</td>\n",
       "    </tr>\n",
       "  </tbody>\n",
       "</table>\n",
       "<p>8172 rows × 12 columns</p>\n",
       "</div>"
      ],
      "text/plain": [
       "       Time(Seconds)  Temperature  Pressure  Humidity  WindDirection(Degrees)  \\\n",
       "22830       0.891151     0.540541  0.810811  0.157895                0.622381   \n",
       "17281       0.174069     0.189189  0.648649  0.505263                0.304452   \n",
       "6136        0.682284     0.702703  0.567568  0.873684                0.856027   \n",
       "17582       0.121879     0.324324  0.729730  0.968421                0.386456   \n",
       "20747       0.121844     0.297297  0.675676  0.210526                0.468654   \n",
       "...              ...          ...       ...       ...                     ...   \n",
       "15333       0.212568     0.405405  0.621622  0.905263                0.556494   \n",
       "13404       0.052516     0.486486  0.594595  0.978947                0.345968   \n",
       "7928        0.219484     0.351351  0.594595  0.989474                0.440977   \n",
       "7857        0.466630     0.459459  0.756757  0.957895                0.199994   \n",
       "24538       0.943331     0.189189  0.432432  0.747368                0.605791   \n",
       "\n",
       "          Speed  TimeSunRise(Seconds)  DayLenght(Seconds)  10  11  12  9  \n",
       "22830  0.194321                  0.38            0.252632   0   1   0  0  \n",
       "17281  0.249877                  0.62            0.084211   0   1   0  0  \n",
       "6136   0.166667                  0.02            0.957895   0   0   0  1  \n",
       "17582  0.166667                  0.60            0.094737   0   1   0  0  \n",
       "20747  0.111111                  0.48            0.168421   0   1   0  0  \n",
       "...         ...                   ...                 ...  ..  ..  .. ..  \n",
       "15333  0.083210                  0.14            0.610526   1   0   0  0  \n",
       "13404  0.194321                  0.18            0.536842   1   0   0  0  \n",
       "7928   0.138765                  0.32            0.315789   1   0   0  0  \n",
       "7857   0.333333                  0.32            0.315789   1   0   0  0  \n",
       "24538  0.166667                  1.00            0.010526   0   0   1  0  \n",
       "\n",
       "[8172 rows x 12 columns]"
      ]
     },
     "execution_count": 5,
     "metadata": {},
     "output_type": "execute_result"
    }
   ],
   "source": [
    "# Тестовая выборка\n",
    "data_test"
   ]
  },
  {
   "cell_type": "markdown",
   "metadata": {},
   "source": [
    "## Первичное обучение модели"
   ]
  },
  {
   "cell_type": "code",
   "execution_count": 6,
   "metadata": {},
   "outputs": [],
   "source": [
    "from sklearn.neighbors import KNeighborsRegressor"
   ]
  },
  {
   "cell_type": "code",
   "execution_count": 7,
   "metadata": {},
   "outputs": [],
   "source": [
    "# Модель ближайших соседей с количеством ближайших соседей = 5\n",
    "KNeighborsRegressorObj = KNeighborsRegressor(n_neighbors=5)\n",
    "KNeighborsRegressorObj.fit(data_train, data_y_train)\n",
    "target0_0 = KNeighborsRegressorObj.predict(data_train)\n",
    "target0_1 = KNeighborsRegressorObj.predict(data_test)"
   ]
  },
  {
   "cell_type": "markdown",
   "metadata": {},
   "source": [
    "## Оценка качества модели с помощью подходящих метрик"
   ]
  },
  {
   "cell_type": "code",
   "execution_count": 8,
   "metadata": {},
   "outputs": [
    {
     "data": {
      "text/plain": [
       "41.82268086147822"
      ]
     },
     "execution_count": 8,
     "metadata": {},
     "output_type": "execute_result"
    }
   ],
   "source": [
    "from sklearn.metrics import mean_absolute_error, mean_squared_error, mean_squared_log_error, median_absolute_error, r2_score\n",
    "# 1) Mean absolute error - средняя абсолютная ошибка\n",
    "mean_absolute_error(data_y_test, target0_1)"
   ]
  },
  {
   "cell_type": "code",
   "execution_count": 9,
   "metadata": {},
   "outputs": [
    {
     "data": {
      "text/plain": [
       "9381.54396910426"
      ]
     },
     "execution_count": 9,
     "metadata": {},
     "output_type": "execute_result"
    }
   ],
   "source": [
    "# 2) Mean squared error - средняя квадратичная ошибка\n",
    "mean_squared_error(data_y_test, target0_1)"
   ]
  },
  {
   "cell_type": "code",
   "execution_count": 10,
   "metadata": {},
   "outputs": [
    {
     "data": {
      "text/plain": [
       "96.85837067132742"
      ]
     },
     "execution_count": 10,
     "metadata": {},
     "output_type": "execute_result"
    }
   ],
   "source": [
    "# Root mean squared error - корень из средней квадратичной ошибки\n",
    "# Значение RMSE сравнимо с MAE\n",
    "mean_squared_error(data_y_test, target0_1, squared=False)"
   ]
  },
  {
   "cell_type": "code",
   "execution_count": 11,
   "metadata": {},
   "outputs": [
    {
     "data": {
      "text/plain": [
       "1.1989999999999998"
      ]
     },
     "execution_count": 11,
     "metadata": {},
     "output_type": "execute_result"
    }
   ],
   "source": [
    "# 3) Median absolute error\n",
    "median_absolute_error(data_y_test, target0_1)"
   ]
  },
  {
   "cell_type": "code",
   "execution_count": 12,
   "metadata": {},
   "outputs": [
    {
     "data": {
      "text/plain": [
       "0.9054334392402374"
      ]
     },
     "execution_count": 12,
     "metadata": {},
     "output_type": "execute_result"
    }
   ],
   "source": [
    "# 4) Метрика R2 или коэффициент детерминации\n",
    "r2_score(data_y_test, target0_1)"
   ]
  },
  {
   "cell_type": "markdown",
   "metadata": {},
   "source": [
    "## Подбор гиперпараметра с использованием GridSearchCV и кросс-валидации"
   ]
  },
  {
   "cell_type": "code",
   "execution_count": 13,
   "metadata": {},
   "outputs": [
    {
     "data": {
      "text/plain": [
       "(array([0.70593175, 0.72155213, 0.71646603, 0.77804221, 0.44361018]),\n",
       " 0.6731204614710141)"
      ]
     },
     "execution_count": 13,
     "metadata": {},
     "output_type": "execute_result"
    }
   ],
   "source": [
    "from sklearn.model_selection import cross_val_score, KFold, LeaveOneOut, ShuffleSplit\n",
    "scores1_1 = cross_val_score(KNeighborsRegressor(n_neighbors=5), data[['Time(Seconds)', 'Temperature', 'Pressure', 'Humidity', 'WindDirection(Degrees)', 'Speed', 'TimeSunRise(Seconds)', 'DayLenght(Seconds)', '10', '11', '12', '9']], data['Radiation'], cv=5, scoring='r2')\n",
    "scores1_1, np.mean(scores1_1)"
   ]
  },
  {
   "cell_type": "code",
   "execution_count": 14,
   "metadata": {},
   "outputs": [
    {
     "data": {
      "text/plain": [
       "(array([0.91094506, 0.91545215, 0.90976649, 0.92055748, 0.91852173,\n",
       "        0.91411547, 0.92005514, 0.91961056, 0.91612227, 0.9021582 ]),\n",
       " 0.9147304564773581)"
      ]
     },
     "execution_count": 14,
     "metadata": {},
     "output_type": "execute_result"
    }
   ],
   "source": [
    "scores1_2 = cross_val_score(KNeighborsRegressor(n_neighbors=5), data[['Time(Seconds)', 'Temperature', 'Pressure', 'Humidity', 'WindDirection(Degrees)', 'Speed', 'TimeSunRise(Seconds)', 'DayLenght(Seconds)', '10', '11', '12', '9']], data['Radiation'], cv=ShuffleSplit(), scoring='r2')\n",
    "scores1_2, np.mean(scores1_2)"
   ]
  },
  {
   "cell_type": "code",
   "execution_count": 15,
   "metadata": {},
   "outputs": [],
   "source": [
    "from sklearn.model_selection import GridSearchCV\n",
    "n_range1_2 = np.array(range(1,11,1))\n",
    "tuned_parameters1_2 = [{'n_neighbors': n_range1_2}]"
   ]
  },
  {
   "cell_type": "code",
   "execution_count": 16,
   "metadata": {},
   "outputs": [
    {
     "name": "stdout",
     "output_type": "stream",
     "text": [
      "Wall time: 17.5 s\n"
     ]
    },
    {
     "data": {
      "text/plain": [
       "GridSearchCV(cv=5, estimator=KNeighborsRegressor(),\n",
       "             param_grid=[{'n_neighbors': array([ 1,  2,  3,  4,  5,  6,  7,  8,  9, 10])}],\n",
       "             scoring='neg_root_mean_squared_error')"
      ]
     },
     "execution_count": 16,
     "metadata": {},
     "output_type": "execute_result"
    }
   ],
   "source": [
    "%%time\n",
    "clf_gs1 = GridSearchCV(KNeighborsRegressor(), tuned_parameters1_2, cv=5, scoring='neg_root_mean_squared_error')\n",
    "clf_gs1.fit(data[['Time(Seconds)', 'Temperature', 'Pressure', 'Humidity', 'WindDirection(Degrees)', 'Speed', 'TimeSunRise(Seconds)', 'DayLenght(Seconds)', '10', '11', '12', '9']], data['Radiation'])"
   ]
  },
  {
   "cell_type": "code",
   "execution_count": 17,
   "metadata": {},
   "outputs": [
    {
     "data": {
      "text/plain": [
       "{'n_neighbors': 10}"
      ]
     },
     "execution_count": 17,
     "metadata": {},
     "output_type": "execute_result"
    }
   ],
   "source": [
    "clf_gs1.best_params_"
   ]
  },
  {
   "cell_type": "code",
   "execution_count": 18,
   "metadata": {},
   "outputs": [
    {
     "data": {
      "text/plain": [
       "{'mean_fit_time': array([0.1267292 , 0.1333797 , 0.14156952, 0.13587351, 0.1322495 ,\n",
       "        0.13275561, 0.13373795, 0.13126612, 0.12983956, 0.13451738]),\n",
       " 'std_fit_time': array([0.03396708, 0.0332352 , 0.04009393, 0.03307412, 0.03826296,\n",
       "        0.03557609, 0.03670708, 0.03513169, 0.03032385, 0.03337531]),\n",
       " 'mean_score_time': array([0.18002419, 0.19028754, 0.20389352, 0.20494266, 0.21105952,\n",
       "        0.21781735, 0.22166562, 0.2250494 , 0.22774138, 0.23812313]),\n",
       " 'std_score_time': array([0.03707899, 0.04968698, 0.06170624, 0.04659014, 0.04467735,\n",
       "        0.0462622 , 0.05480592, 0.0521364 , 0.05137638, 0.06010708]),\n",
       " 'param_n_neighbors': masked_array(data=[1, 2, 3, 4, 5, 6, 7, 8, 9, 10],\n",
       "              mask=[False, False, False, False, False, False, False, False,\n",
       "                    False, False],\n",
       "        fill_value='?',\n",
       "             dtype=object),\n",
       " 'params': [{'n_neighbors': 1},\n",
       "  {'n_neighbors': 2},\n",
       "  {'n_neighbors': 3},\n",
       "  {'n_neighbors': 4},\n",
       "  {'n_neighbors': 5},\n",
       "  {'n_neighbors': 6},\n",
       "  {'n_neighbors': 7},\n",
       "  {'n_neighbors': 8},\n",
       "  {'n_neighbors': 9},\n",
       "  {'n_neighbors': 10}],\n",
       " 'split0_test_score': array([-217.02458582, -202.4660575 , -195.57678672, -191.51930783,\n",
       "        -186.78869162, -182.3537172 , -179.71831884, -177.72725017,\n",
       "        -176.22347649, -174.9258395 ]),\n",
       " 'split1_test_score': array([-206.25651972, -194.70733086, -188.66725567, -184.85280644,\n",
       "        -182.40168022, -179.49991621, -177.32912211, -176.33222828,\n",
       "        -175.47641539, -175.102098  ]),\n",
       " 'split2_test_score': array([-199.88040273, -180.40547265, -170.40818758, -166.03145117,\n",
       "        -161.54130533, -159.21092802, -158.0921955 , -156.47943976,\n",
       "        -155.29477167, -154.37233707]),\n",
       " 'split3_test_score': array([-175.54706393, -162.54175935, -155.71632119, -153.42761938,\n",
       "        -150.5313467 , -148.89215254, -147.42731487, -146.68962872,\n",
       "        -146.1447358 , -145.89571643]),\n",
       " 'split4_test_score': array([-222.80227962, -198.4025695 , -189.74599407, -185.02092317,\n",
       "        -181.58209102, -179.79721396, -177.56214694, -175.56506911,\n",
       "        -173.34374717, -171.51749709]),\n",
       " 'mean_test_score': array([-204.30217036, -187.70463797, -180.02290904, -176.1704216 ,\n",
       "        -172.56902298, -169.95078559, -168.02581965, -166.55872321,\n",
       "        -165.2966293 , -164.36269762]),\n",
       " 'std_test_score': array([16.45807737, 14.6139059 , 14.79485927, 14.20800667, 14.05265279,\n",
       "        13.42223026, 12.93972797, 12.63126702, 12.28505044, 11.9911846 ]),\n",
       " 'rank_test_score': array([10,  9,  8,  7,  6,  5,  4,  3,  2,  1])}"
      ]
     },
     "execution_count": 18,
     "metadata": {},
     "output_type": "execute_result"
    }
   ],
   "source": [
    "clf_gs1.cv_results_"
   ]
  },
  {
   "cell_type": "code",
   "execution_count": 19,
   "metadata": {},
   "outputs": [
    {
     "data": {
      "text/plain": [
       "[<matplotlib.lines.Line2D at 0x274d58c0e80>]"
      ]
     },
     "execution_count": 19,
     "metadata": {},
     "output_type": "execute_result"
    },
    {
     "data": {
      "image/png": "[encoded data removed]",
      "text/plain": [
       "<Figure size 432x288 with 1 Axes>"
      ]
     },
     "metadata": {
      "needs_background": "light"
     },
     "output_type": "display_data"
    }
   ],
   "source": [
    "plt.plot(n_range1_2, clf_gs1.cv_results_['mean_test_score'])"
   ]
  },
  {
   "cell_type": "code",
   "execution_count": 20,
   "metadata": {},
   "outputs": [],
   "source": [
    "# 5.Обучение модели и оценка качества с учетом подобранных гиперпараметров\n",
    "clf_gs1.best_estimator_.fit(data_train, data_y_train)\n",
    "target1_0 = clf_gs1.best_estimator_.predict(data_train)\n",
    "target1_1 = clf_gs1.best_estimator_.predict(data_test)"
   ]
  },
  {
   "cell_type": "markdown",
   "metadata": {},
   "source": [
    "## Сравнение оценок метрик исходной и оптимальной моделей"
   ]
  },
  {
   "cell_type": "code",
   "execution_count": 21,
   "metadata": {},
   "outputs": [
    {
     "data": {
      "text/plain": [
       "(0.9245930167529521, 0.9024037307965285)"
      ]
     },
     "execution_count": 21,
     "metadata": {},
     "output_type": "execute_result"
    }
   ],
   "source": [
    "# Новое качество модели\n",
    "r2_score(data_y_train, target1_0), r2_score(data_y_test, target1_1)"
   ]
  },
  {
   "cell_type": "code",
   "execution_count": 22,
   "metadata": {},
   "outputs": [
    {
     "data": {
      "text/plain": [
       "(0.9408834310923744, 0.9054334392402374)"
      ]
     },
     "execution_count": 22,
     "metadata": {},
     "output_type": "execute_result"
    }
   ],
   "source": [
    "# Качество модели до подбора гиперпараметров\n",
    "r2_score(data_y_train, target0_0), r2_score(data_y_test, target0_1)"
   ]
  },
  {
   "cell_type": "code",
   "execution_count": 23,
   "metadata": {},
   "outputs": [
    {
     "data": {
      "text/plain": [
       "(86.83082113323461, 98.39770517513665)"
      ]
     },
     "execution_count": 23,
     "metadata": {},
     "output_type": "execute_result"
    }
   ],
   "source": [
    "# Новое качество модели\n",
    "mean_squared_error(data_y_train, target1_0, squared=False), mean_squared_error(data_y_test, target1_1, squared=False)"
   ]
  },
  {
   "cell_type": "code",
   "execution_count": 24,
   "metadata": {},
   "outputs": [
    {
     "data": {
      "text/plain": [
       "(76.88165695362724, 96.85837067132742)"
      ]
     },
     "execution_count": 24,
     "metadata": {},
     "output_type": "execute_result"
    }
   ],
   "source": [
    "# Качество модели до подбора гиперпараметров\n",
    "mean_squared_error(data_y_train, target0_0, squared=False), mean_squared_error(data_y_test, target0_1, squared=False)"
   ]
  },
  {
   "cell_type": "code",
   "execution_count": 25,
   "metadata": {},
   "outputs": [],
   "source": [
    "n_range2_2 = np.array(range(1,11,1))\n",
    "tuned_parameters2_2 = [{'n_neighbors': n_range2_2}]"
   ]
  },
  {
   "cell_type": "code",
   "execution_count": 26,
   "metadata": {},
   "outputs": [
    {
     "name": "stdout",
     "output_type": "stream",
     "text": [
      "Wall time: 27.3 s\n"
     ]
    },
    {
     "data": {
      "text/plain": [
       "GridSearchCV(cv=ShuffleSplit(n_splits=10, random_state=None, test_size=None, train_size=None),\n",
       "             estimator=KNeighborsRegressor(),\n",
       "             param_grid=[{'n_neighbors': array([ 1,  2,  3,  4,  5,  6,  7,  8,  9, 10])}],\n",
       "             scoring='r2')"
      ]
     },
     "execution_count": 26,
     "metadata": {},
     "output_type": "execute_result"
    }
   ],
   "source": [
    "%%time\n",
    "clf_gs2 = GridSearchCV(KNeighborsRegressor(), tuned_parameters2_2, cv=ShuffleSplit(), scoring='r2')\n",
    "clf_gs2.fit(data[['Time(Seconds)', 'Temperature', 'Pressure', 'Humidity', 'WindDirection(Degrees)', 'Speed', 'TimeSunRise(Seconds)', 'DayLenght(Seconds)', '10', '11', '12', '9']], data['Radiation'])"
   ]
  },
  {
   "cell_type": "code",
   "execution_count": 27,
   "metadata": {},
   "outputs": [
    {
     "data": {
      "text/plain": [
       "{'n_neighbors': 6}"
      ]
     },
     "execution_count": 27,
     "metadata": {},
     "output_type": "execute_result"
    }
   ],
   "source": [
    "clf_gs2.best_params_"
   ]
  },
  {
   "cell_type": "code",
   "execution_count": 28,
   "metadata": {},
   "outputs": [
    {
     "data": {
      "text/plain": [
       "[<matplotlib.lines.Line2D at 0x274d59db190>]"
      ]
     },
     "execution_count": 28,
     "metadata": {},
     "output_type": "execute_result"
    },
    {
     "data": {
      "image/png": "[encoded data removed]",
      "text/plain": [
       "<Figure size 432x288 with 1 Axes>"
      ]
     },
     "metadata": {
      "needs_background": "light"
     },
     "output_type": "display_data"
    }
   ],
   "source": [
    "plt.plot(n_range2_2, clf_gs2.cv_results_['mean_test_score'])"
   ]
  },
  {
   "cell_type": "code",
   "execution_count": 29,
   "metadata": {},
   "outputs": [],
   "source": [
    "# 5.Обучение модели и оценка качества с учетом подобранных гиперпараметров\n",
    "clf_gs2.best_estimator_.fit(data_train, data_y_train)\n",
    "target2_0 = clf_gs2.best_estimator_.predict(data_train)\n",
    "target2_1 = clf_gs2.best_estimator_.predict(data_test)"
   ]
  },
  {
   "cell_type": "markdown",
   "metadata": {},
   "source": [
    "## Сравнение оценок метрик исходной и оптимальной моделей"
   ]
  },
  {
   "cell_type": "code",
   "execution_count": 30,
   "metadata": {},
   "outputs": [
    {
     "data": {
      "text/plain": [
       "(0.9369906171393381, 0.9068410332125085)"
      ]
     },
     "execution_count": 30,
     "metadata": {},
     "output_type": "execute_result"
    }
   ],
   "source": [
    "# Новое качество модели\n",
    "r2_score(data_y_train, target2_0), r2_score(data_y_test, target2_1)"
   ]
  },
  {
   "cell_type": "code",
   "execution_count": 31,
   "metadata": {},
   "outputs": [
    {
     "data": {
      "text/plain": [
       "(0.9408834310923744, 0.9054334392402374)"
      ]
     },
     "execution_count": 31,
     "metadata": {},
     "output_type": "execute_result"
    }
   ],
   "source": [
    "# Качество модели до подбора гиперпараметров\n",
    "r2_score(data_y_train, target0_0), r2_score(data_y_test, target0_1)"
   ]
  },
  {
   "cell_type": "markdown",
   "metadata": {},
   "source": [
    "## Построение кривых обучения и валидации"
   ]
  },
  {
   "cell_type": "code",
   "execution_count": 32,
   "metadata": {},
   "outputs": [],
   "source": [
    "from sklearn.model_selection import learning_curve, validation_curve\n",
    "def plot_learning_curve(estimator, title, X, y, ylim=None, cv=None,\n",
    "                        n_jobs=None, train_sizes=np.linspace(.1, 1.0, 5)):\n",
    "    \"\"\"\n",
    "    Generate a simple plot of the test and training learning curve.\n",
    "\n",
    "    Parameters\n",
    "    ----------\n",
    "    estimator : object type that implements the \"fit\" and \"predict\" methods\n",
    "        An object of that type which is cloned for each validation.\n",
    "\n",
    "    title : string\n",
    "        Title for the chart.\n",
    "\n",
    "    X : array-like, shape (n_samples, n_features)\n",
    "        Training vector, where n_samples is the number of samples and\n",
    "        n_features is the number of features.\n",
    "\n",
    "    y : array-like, shape (n_samples) or (n_samples, n_features), optional\n",
    "        Target relative to X for classification or regression;\n",
    "        None for unsupervised learning.\n",
    "\n",
    "    ylim : tuple, shape (ymin, ymax), optional\n",
    "        Defines minimum and maximum yvalues plotted.\n",
    "\n",
    "    cv : int, cross-validation generator or an iterable, optional\n",
    "        Determines the cross-validation splitting strategy.\n",
    "        Possible inputs for cv are:\n",
    "          - None, to use the default 3-fold cross-validation,\n",
    "          - integer, to specify the number of folds.\n",
    "          - :term:`CV splitter`,\n",
    "          - An iterable yielding (train, test) splits as arrays of indices.\n",
    "\n",
    "        For integer/None inputs, if ``y`` is binary or multiclass,\n",
    "        :class:`StratifiedKFold` used. If the estimator is not a classifier\n",
    "        or if ``y`` is neither binary nor multiclass, :class:`KFold` is used.\n",
    "\n",
    "        Refer :ref:`User Guide <cross_validation>` for the various\n",
    "        cross-validators that can be used here.\n",
    "\n",
    "    n_jobs : int or None, optional (default=None)\n",
    "        Number of jobs to run in parallel.\n",
    "        ``None`` means 1 unless in a :obj:`joblib.parallel_backend` context.\n",
    "        ``-1`` means using all processors. See :term:`Glossary <n_jobs>`\n",
    "        for more details.\n",
    "\n",
    "    train_sizes : array-like, shape (n_ticks,), dtype float or int\n",
    "        Relative or absolute numbers of training examples that will be used to\n",
    "        generate the learning curve. If the dtype is float, it is regarded as a\n",
    "        fraction of the maximum size of the training set (that is determined\n",
    "        by the selected validation method), i.e. it has to be within (0, 1].\n",
    "        Otherwise it is interpreted as absolute sizes of the training sets.\n",
    "        Note that for classification the number of samples usually have to\n",
    "        be big enough to contain at least one sample from each class.\n",
    "        (default: np.linspace(0.1, 1.0, 5))\n",
    "    \"\"\"\n",
    "    plt.figure()\n",
    "    plt.title(title)\n",
    "    if ylim is not None:\n",
    "        plt.ylim(*ylim)\n",
    "    plt.xlabel(\"Training examples\")\n",
    "    plt.ylabel(\"Score\")\n",
    "    train_sizes, train_scores, test_scores = learning_curve(\n",
    "        estimator, X, y, cv=cv, n_jobs=n_jobs, train_sizes=train_sizes)\n",
    "    train_scores_mean = np.mean(train_scores, axis=1)\n",
    "    train_scores_std = np.std(train_scores, axis=1)\n",
    "    test_scores_mean = np.mean(test_scores, axis=1)\n",
    "    test_scores_std = np.std(test_scores, axis=1)\n",
    "    plt.grid()\n",
    "\n",
    "    plt.fill_between(train_sizes, train_scores_mean - train_scores_std,\n",
    "                     train_scores_mean + train_scores_std, alpha=0.3,\n",
    "                     color=\"r\")\n",
    "    plt.fill_between(train_sizes, test_scores_mean - test_scores_std,\n",
    "                     test_scores_mean + test_scores_std, alpha=0.1, color=\"g\")\n",
    "    plt.plot(train_sizes, train_scores_mean, 'o-', color=\"r\",\n",
    "             label=\"Training score\")\n",
    "    plt.plot(train_sizes, test_scores_mean, 'o-', color=\"g\",\n",
    "             label=\"Cross-validation score\")\n",
    "\n",
    "    plt.legend(loc=\"best\")\n",
    "    return plt\n",
    "\n",
    "def plot_validation_curve(estimator, title, X, y, \n",
    "                          param_name, param_range, cv, \n",
    "                          scoring=\"accuracy\"):\n",
    "                                                   \n",
    "    train_scores, test_scores = validation_curve(\n",
    "        estimator, X, y, param_name=param_name, param_range=param_range,\n",
    "        cv=cv, scoring=scoring, n_jobs=1)\n",
    "    train_scores_mean = np.mean(train_scores, axis=1)\n",
    "    train_scores_std = np.std(train_scores, axis=1)\n",
    "    test_scores_mean = np.mean(test_scores, axis=1)\n",
    "    test_scores_std = np.std(test_scores, axis=1)\n",
    "\n",
    "    plt.title(title)\n",
    "    plt.xlabel(param_name)\n",
    "    plt.ylabel(str(scoring))\n",
    "    plt.ylim(0.0, 1.1)\n",
    "    lw = 2\n",
    "    plt.plot(param_range, train_scores_mean, label=\"Training score\",\n",
    "                 color=\"darkorange\", lw=lw)\n",
    "    plt.fill_between(param_range, train_scores_mean - train_scores_std,\n",
    "                     train_scores_mean + train_scores_std, alpha=0.4,\n",
    "                     color=\"darkorange\", lw=lw)\n",
    "    plt.plot(param_range, test_scores_mean, label=\"Cross-validation score\",\n",
    "                 color=\"navy\", lw=lw)\n",
    "    plt.fill_between(param_range, test_scores_mean - test_scores_std,\n",
    "                     test_scores_mean + test_scores_std, alpha=0.2,\n",
    "                     color=\"navy\", lw=lw)\n",
    "    plt.legend(loc=\"best\")\n",
    "    return plt"
   ]
  },
  {
   "cell_type": "code",
   "execution_count": 33,
   "metadata": {},
   "outputs": [
    {
     "data": {
      "text/plain": [
       "<module 'matplotlib.pyplot' from 'D:\\\\ProgramData\\\\Anaconda3\\\\lib\\\\site-packages\\\\matplotlib\\\\pyplot.py'>"
      ]
     },
     "execution_count": 33,
     "metadata": {},
     "output_type": "execute_result"
    },
    {
     "data": {
      "image/png": "[encoded data removed]",
      "text/plain": [
       "<Figure size 432x288 with 1 Axes>"
      ]
     },
     "metadata": {
      "needs_background": "light"
     },
     "output_type": "display_data"
    }
   ],
   "source": [
    "# 6.Построение кривых обучения и валидации\n",
    "plot_learning_curve(clf_gs2.best_estimator_, 'n_neighbors=6', \n",
    "                    data[['Time(Seconds)', 'Temperature', 'Pressure', 'Humidity', 'WindDirection(Degrees)', 'Speed', 'TimeSunRise(Seconds)', 'DayLenght(Seconds)', '10', '11', '12', '9']], data['Radiation'], cv=ShuffleSplit(), train_sizes=np.linspace(.2, 1.0, 5))"
   ]
  },
  {
   "cell_type": "code",
   "execution_count": 34,
   "metadata": {},
   "outputs": [
    {
     "data": {
      "text/plain": [
       "<module 'matplotlib.pyplot' from 'D:\\\\ProgramData\\\\Anaconda3\\\\lib\\\\site-packages\\\\matplotlib\\\\pyplot.py'>"
      ]
     },
     "execution_count": 34,
     "metadata": {},
     "output_type": "execute_result"
    },
    {
     "data": {
      "image/png": "[encoded data removed]",
      "text/plain": [
       "<Figure size 432x288 with 1 Axes>"
      ]
     },
     "metadata": {
      "needs_background": "light"
     },
     "output_type": "display_data"
    }
   ],
   "source": [
    "n_range2 = np.array(range(5,125,5))\n",
    "plot_validation_curve(clf_gs2.best_estimator_, 'knn', \n",
    "                      data[['Time(Seconds)', 'Temperature', 'Pressure', 'Humidity', 'WindDirection(Degrees)', 'Speed', 'TimeSunRise(Seconds)', 'DayLenght(Seconds)', '10', '11', '12', '9']], data['Radiation'], \n",
    "                      param_name='n_neighbors', param_range=n_range2, \n",
    "                      cv=ShuffleSplit(), scoring=\"r2\")"
   ]
  }
 ],
 "metadata": {
  "kernelspec": {
   "display_name": "Python 3",
   "language": "python",
   "name": "python3"
  },
  "language_info": {
   "codemirror_mode": {
    "name": "ipython",
    "version": 3
   },
   "file_extension": ".py",
   "mimetype": "text/x-python",
   "name": "python",
   "nbconvert_exporter": "python",
   "pygments_lexer": "ipython3",
   "version": "3.8.5"
  }
 },
 "nbformat": 4,
 "nbformat_minor": 4
}
