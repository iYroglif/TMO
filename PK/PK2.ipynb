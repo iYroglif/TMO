{
 "cells": [
  {
   "cell_type": "markdown",
   "metadata": {},
   "source": [
    "# Рубежный контроль №2\n",
    "## Терентьев В.О. Группа ИУ5-63Б\n",
    "### Вариант 20\n",
    "**Задача**. Для заданного набора данных (по Вашему варианту) постройте модели классификации или регрессии (в зависимости от конкретной задачи, рассматриваемой в наборе данных). Для построения моделей используйте методы 1 и 2 (по варианту для Вашей группы). Оцените качество моделей на основе подходящих метрик качества (не менее двух метрик). Какие метрики качества Вы использовали и почему? Какие выводы Вы можете сделать о качестве построенных моделей? Для построения моделей необходимо выполнить требуемую предобработку данных: заполнение пропусков, кодирование категориальных признаков, и т.д.\n",
    "\n",
    "**Методы для ИУ5-63Б.** Метод №1: \"Дерево решений\". Метод №2: \"Случайный лес\".\n",
    "\n",
    "**Набор данных:** [Trump Impeachment Polls](https://www.kaggle.com/fmejia21/trump-impeachment-polls)."
   ]
  },
  {
   "cell_type": "markdown",
   "metadata": {},
   "source": [
    "## Импорт библиотек:"
   ]
  },
  {
   "cell_type": "code",
   "execution_count": 1,
   "metadata": {},
   "outputs": [],
   "source": [
    "import numpy as np\n",
    "import pandas as pd\n",
    "import matplotlib.pyplot as plt"
   ]
  },
  {
   "cell_type": "markdown",
   "metadata": {},
   "source": [
    "## Загрузка и первичная подготовка данных:"
   ]
  },
  {
   "cell_type": "code",
   "execution_count": 2,
   "metadata": {},
   "outputs": [
    {
     "data": {
      "text/plain": [
       "(542, 24)"
      ]
     },
     "execution_count": 2,
     "metadata": {},
     "output_type": "execute_result"
    }
   ],
   "source": [
    "# загрузка набора данных (файл: impeachment-polls.csv)\n",
    "data = pd.read_csv('impeachment-polls.csv', sep=\",\")\n",
    "# размер набора данных\n",
    "data.shape"
   ]
  },
  {
   "cell_type": "code",
   "execution_count": 3,
   "metadata": {},
   "outputs": [
    {
     "data": {
      "text/html": [
       "<div>\n",
       "<style scoped>\n",
       "    .dataframe tbody tr th:only-of-type {\n",
       "        vertical-align: middle;\n",
       "    }\n",
       "\n",
       "    .dataframe tbody tr th {\n",
       "        vertical-align: top;\n",
       "    }\n",
       "\n",
       "    .dataframe thead th {\n",
       "        text-align: right;\n",
       "    }\n",
       "</style>\n",
       "<table border=\"1\" class=\"dataframe\">\n",
       "  <thead>\n",
       "    <tr style=\"text-align: right;\">\n",
       "      <th></th>\n",
       "      <th>Start</th>\n",
       "      <th>End</th>\n",
       "      <th>Pollster</th>\n",
       "      <th>Sponsor</th>\n",
       "      <th>SampleSize</th>\n",
       "      <th>Pop</th>\n",
       "      <th>tracking</th>\n",
       "      <th>Text</th>\n",
       "      <th>Category</th>\n",
       "      <th>Include?</th>\n",
       "      <th>...</th>\n",
       "      <th>Rep Yes</th>\n",
       "      <th>Rep No</th>\n",
       "      <th>Dem Sample</th>\n",
       "      <th>Dem Yes</th>\n",
       "      <th>Dem No</th>\n",
       "      <th>Ind Sample</th>\n",
       "      <th>Ind Yes</th>\n",
       "      <th>Ind No</th>\n",
       "      <th>URL</th>\n",
       "      <th>Notes</th>\n",
       "    </tr>\n",
       "  </thead>\n",
       "  <tbody>\n",
       "    <tr>\n",
       "      <th>0</th>\n",
       "      <td>6/28/2019</td>\n",
       "      <td>7/1/2019</td>\n",
       "      <td>ABC News/Washington Post</td>\n",
       "      <td>NaN</td>\n",
       "      <td>1008</td>\n",
       "      <td>a</td>\n",
       "      <td>NaN</td>\n",
       "      <td>Based on what you know, do you think Congress ...</td>\n",
       "      <td>begin_proceedings</td>\n",
       "      <td>yes</td>\n",
       "      <td>...</td>\n",
       "      <td>7.0</td>\n",
       "      <td>87.0</td>\n",
       "      <td>292.0</td>\n",
       "      <td>61.0</td>\n",
       "      <td>36.0</td>\n",
       "      <td>373.0</td>\n",
       "      <td>37.0</td>\n",
       "      <td>59.0</td>\n",
       "      <td>https://games-cdn.washingtonpost.com/notes/pro...</td>\n",
       "      <td>NaN</td>\n",
       "    </tr>\n",
       "    <tr>\n",
       "      <th>1</th>\n",
       "      <td>4/22/2019</td>\n",
       "      <td>4/25/2019</td>\n",
       "      <td>ABC News/Washington Post</td>\n",
       "      <td>NaN</td>\n",
       "      <td>1001</td>\n",
       "      <td>a</td>\n",
       "      <td>NaN</td>\n",
       "      <td>Based on what you know, do you think Congress ...</td>\n",
       "      <td>begin_proceedings</td>\n",
       "      <td>yes</td>\n",
       "      <td>...</td>\n",
       "      <td>10.0</td>\n",
       "      <td>87.0</td>\n",
       "      <td>290.0</td>\n",
       "      <td>62.0</td>\n",
       "      <td>29.0</td>\n",
       "      <td>360.0</td>\n",
       "      <td>36.0</td>\n",
       "      <td>59.0</td>\n",
       "      <td>https://games-cdn.washingtonpost.com/notes/pro...</td>\n",
       "      <td>NaN</td>\n",
       "    </tr>\n",
       "    <tr>\n",
       "      <th>2</th>\n",
       "      <td>1/21/2019</td>\n",
       "      <td>1/24/2019</td>\n",
       "      <td>ABC News/Washington Post</td>\n",
       "      <td>NaN</td>\n",
       "      <td>1001</td>\n",
       "      <td>a</td>\n",
       "      <td>NaN</td>\n",
       "      <td>Based on what you know, do you think Congress ...</td>\n",
       "      <td>begin_proceedings</td>\n",
       "      <td>yes</td>\n",
       "      <td>...</td>\n",
       "      <td>7.0</td>\n",
       "      <td>90.0</td>\n",
       "      <td>320.0</td>\n",
       "      <td>64.0</td>\n",
       "      <td>30.0</td>\n",
       "      <td>370.0</td>\n",
       "      <td>42.0</td>\n",
       "      <td>53.0</td>\n",
       "      <td>langerresearch.com/wp-content/uploads/1204a2Tr...</td>\n",
       "      <td>NaN</td>\n",
       "    </tr>\n",
       "    <tr>\n",
       "      <th>3</th>\n",
       "      <td>8/26/2018</td>\n",
       "      <td>8/29/2018</td>\n",
       "      <td>ABC News/Washington Post</td>\n",
       "      <td>NaN</td>\n",
       "      <td>1003</td>\n",
       "      <td>a</td>\n",
       "      <td>NaN</td>\n",
       "      <td>Based on what you know, do you think Congress ...</td>\n",
       "      <td>begin_proceedings</td>\n",
       "      <td>yes</td>\n",
       "      <td>...</td>\n",
       "      <td>15.0</td>\n",
       "      <td>82.0</td>\n",
       "      <td>331.0</td>\n",
       "      <td>75.0</td>\n",
       "      <td>21.0</td>\n",
       "      <td>371.0</td>\n",
       "      <td>49.0</td>\n",
       "      <td>46.0</td>\n",
       "      <td>https://www.langerresearch.com/wp-content/uplo...</td>\n",
       "      <td>NaN</td>\n",
       "    </tr>\n",
       "    <tr>\n",
       "      <th>4</th>\n",
       "      <td>6/8/2019</td>\n",
       "      <td>6/12/2019</td>\n",
       "      <td>Civiqs</td>\n",
       "      <td>NaN</td>\n",
       "      <td>1559</td>\n",
       "      <td>rv</td>\n",
       "      <td>NaN</td>\n",
       "      <td>Do you think the House of Representatives shou...</td>\n",
       "      <td>begin_inquiry</td>\n",
       "      <td>yes</td>\n",
       "      <td>...</td>\n",
       "      <td>5.0</td>\n",
       "      <td>93.0</td>\n",
       "      <td>577.0</td>\n",
       "      <td>77.0</td>\n",
       "      <td>15.0</td>\n",
       "      <td>499.0</td>\n",
       "      <td>41.0</td>\n",
       "      <td>53.0</td>\n",
       "      <td>https://civiqs.com/documents/Civiqs_DailyKos_m...</td>\n",
       "      <td>NaN</td>\n",
       "    </tr>\n",
       "  </tbody>\n",
       "</table>\n",
       "<p>5 rows × 24 columns</p>\n",
       "</div>"
      ],
      "text/plain": [
       "       Start        End                  Pollster Sponsor  SampleSize Pop  \\\n",
       "0  6/28/2019   7/1/2019  ABC News/Washington Post     NaN        1008   a   \n",
       "1  4/22/2019  4/25/2019  ABC News/Washington Post     NaN        1001   a   \n",
       "2  1/21/2019  1/24/2019  ABC News/Washington Post     NaN        1001   a   \n",
       "3  8/26/2018  8/29/2018  ABC News/Washington Post     NaN        1003   a   \n",
       "4   6/8/2019  6/12/2019                    Civiqs     NaN        1559  rv   \n",
       "\n",
       "  tracking                                               Text  \\\n",
       "0      NaN  Based on what you know, do you think Congress ...   \n",
       "1      NaN  Based on what you know, do you think Congress ...   \n",
       "2      NaN  Based on what you know, do you think Congress ...   \n",
       "3      NaN  Based on what you know, do you think Congress ...   \n",
       "4      NaN  Do you think the House of Representatives shou...   \n",
       "\n",
       "            Category Include?  ...  Rep Yes  Rep No  Dem Sample  Dem Yes  \\\n",
       "0  begin_proceedings      yes  ...      7.0    87.0       292.0     61.0   \n",
       "1  begin_proceedings      yes  ...     10.0    87.0       290.0     62.0   \n",
       "2  begin_proceedings      yes  ...      7.0    90.0       320.0     64.0   \n",
       "3  begin_proceedings      yes  ...     15.0    82.0       331.0     75.0   \n",
       "4      begin_inquiry      yes  ...      5.0    93.0       577.0     77.0   \n",
       "\n",
       "   Dem No  Ind Sample  Ind Yes  Ind No  \\\n",
       "0    36.0       373.0     37.0    59.0   \n",
       "1    29.0       360.0     36.0    59.0   \n",
       "2    30.0       370.0     42.0    53.0   \n",
       "3    21.0       371.0     49.0    46.0   \n",
       "4    15.0       499.0     41.0    53.0   \n",
       "\n",
       "                                                 URL  Notes  \n",
       "0  https://games-cdn.washingtonpost.com/notes/pro...    NaN  \n",
       "1  https://games-cdn.washingtonpost.com/notes/pro...    NaN  \n",
       "2  langerresearch.com/wp-content/uploads/1204a2Tr...    NaN  \n",
       "3  https://www.langerresearch.com/wp-content/uplo...    NaN  \n",
       "4  https://civiqs.com/documents/Civiqs_DailyKos_m...    NaN  \n",
       "\n",
       "[5 rows x 24 columns]"
      ]
     },
     "execution_count": 3,
     "metadata": {},
     "output_type": "execute_result"
    }
   ],
   "source": [
    "# первые 5 строк набора данных\n",
    "data.head()"
   ]
  },
  {
   "cell_type": "code",
   "execution_count": 4,
   "metadata": {},
   "outputs": [
    {
     "data": {
      "text/plain": [
       "array(['begin_proceedings', 'begin_inquiry', 'impeach_and_remove',\n",
       "       'reasons', 'impeach', 'consider', 'if_impeach_then_remove',\n",
       "       'remove', nan], dtype=object)"
      ]
     },
     "execution_count": 4,
     "metadata": {},
     "output_type": "execute_result"
    }
   ],
   "source": [
    "# уникальные значения столбца 'Category' файла impeachment-polls\n",
    "data['Category'].unique()"
   ]
  },
  {
   "cell_type": "code",
   "execution_count": 5,
   "metadata": {},
   "outputs": [
    {
     "data": {
      "text/plain": [
       "(7580, 8)"
      ]
     },
     "execution_count": 5,
     "metadata": {},
     "output_type": "execute_result"
    }
   ],
   "source": [
    "# загрузка набора данных (файл: impeachment_topline.csv)\n",
    "data2 = pd.read_csv('impeachment_topline.csv', sep=\",\")\n",
    "# размер набора данных\n",
    "data2.shape"
   ]
  },
  {
   "cell_type": "code",
   "execution_count": 6,
   "metadata": {},
   "outputs": [
    {
     "data": {
      "text/html": [
       "<div>\n",
       "<style scoped>\n",
       "    .dataframe tbody tr th:only-of-type {\n",
       "        vertical-align: middle;\n",
       "    }\n",
       "\n",
       "    .dataframe tbody tr th {\n",
       "        vertical-align: top;\n",
       "    }\n",
       "\n",
       "    .dataframe thead th {\n",
       "        text-align: right;\n",
       "    }\n",
       "</style>\n",
       "<table border=\"1\" class=\"dataframe\">\n",
       "  <thead>\n",
       "    <tr style=\"text-align: right;\">\n",
       "      <th></th>\n",
       "      <th>president</th>\n",
       "      <th>subgroup</th>\n",
       "      <th>party</th>\n",
       "      <th>category_group</th>\n",
       "      <th>modeldate</th>\n",
       "      <th>yes_estimate</th>\n",
       "      <th>no_estimate</th>\n",
       "      <th>timestamp</th>\n",
       "    </tr>\n",
       "  </thead>\n",
       "  <tbody>\n",
       "    <tr>\n",
       "      <th>0</th>\n",
       "      <td>Donald Trump</td>\n",
       "      <td>All polls</td>\n",
       "      <td>rep</td>\n",
       "      <td>remove</td>\n",
       "      <td>2/4/2020</td>\n",
       "      <td>9.169278</td>\n",
       "      <td>86.625773</td>\n",
       "      <td>09:10:39  4 Feb 2020</td>\n",
       "    </tr>\n",
       "    <tr>\n",
       "      <th>1</th>\n",
       "      <td>Donald Trump</td>\n",
       "      <td>All polls</td>\n",
       "      <td>rep</td>\n",
       "      <td>impeach</td>\n",
       "      <td>2/4/2020</td>\n",
       "      <td>13.207482</td>\n",
       "      <td>84.239974</td>\n",
       "      <td>09:10:38  4 Feb 2020</td>\n",
       "    </tr>\n",
       "    <tr>\n",
       "      <th>2</th>\n",
       "      <td>Donald Trump</td>\n",
       "      <td>All polls</td>\n",
       "      <td>rep</td>\n",
       "      <td>begin</td>\n",
       "      <td>2/4/2020</td>\n",
       "      <td>14.471712</td>\n",
       "      <td>82.718082</td>\n",
       "      <td>09:10:35  4 Feb 2020</td>\n",
       "    </tr>\n",
       "    <tr>\n",
       "      <th>3</th>\n",
       "      <td>Donald Trump</td>\n",
       "      <td>All polls</td>\n",
       "      <td>rep</td>\n",
       "      <td>all</td>\n",
       "      <td>2/4/2020</td>\n",
       "      <td>13.028150</td>\n",
       "      <td>84.507971</td>\n",
       "      <td>09:10:34  4 Feb 2020</td>\n",
       "    </tr>\n",
       "    <tr>\n",
       "      <th>4</th>\n",
       "      <td>Donald Trump</td>\n",
       "      <td>All polls</td>\n",
       "      <td>ind</td>\n",
       "      <td>remove</td>\n",
       "      <td>2/4/2020</td>\n",
       "      <td>43.181777</td>\n",
       "      <td>45.723249</td>\n",
       "      <td>09:10:30  4 Feb 2020</td>\n",
       "    </tr>\n",
       "  </tbody>\n",
       "</table>\n",
       "</div>"
      ],
      "text/plain": [
       "      president   subgroup party category_group modeldate  yes_estimate  \\\n",
       "0  Donald Trump  All polls   rep         remove  2/4/2020      9.169278   \n",
       "1  Donald Trump  All polls   rep        impeach  2/4/2020     13.207482   \n",
       "2  Donald Trump  All polls   rep          begin  2/4/2020     14.471712   \n",
       "3  Donald Trump  All polls   rep            all  2/4/2020     13.028150   \n",
       "4  Donald Trump  All polls   ind         remove  2/4/2020     43.181777   \n",
       "\n",
       "   no_estimate             timestamp  \n",
       "0    86.625773  09:10:39  4 Feb 2020  \n",
       "1    84.239974  09:10:38  4 Feb 2020  \n",
       "2    82.718082  09:10:35  4 Feb 2020  \n",
       "3    84.507971  09:10:34  4 Feb 2020  \n",
       "4    45.723249  09:10:30  4 Feb 2020  "
      ]
     },
     "execution_count": 6,
     "metadata": {},
     "output_type": "execute_result"
    }
   ],
   "source": [
    "# первые 5 строк набора данных\n",
    "data2.head()"
   ]
  },
  {
   "cell_type": "code",
   "execution_count": 7,
   "metadata": {},
   "outputs": [
    {
     "data": {
      "text/plain": [
       "array(['remove', 'impeach', 'begin', 'all', nan], dtype=object)"
      ]
     },
     "execution_count": 7,
     "metadata": {},
     "output_type": "execute_result"
    }
   ],
   "source": [
    "# уникальные значения столбца 'category_group' файла impeachment_topline\n",
    "data2['category_group'].unique()"
   ]
  },
  {
   "cell_type": "code",
   "execution_count": 8,
   "metadata": {},
   "outputs": [
    {
     "data": {
      "text/html": [
       "<div>\n",
       "<style scoped>\n",
       "    .dataframe tbody tr th:only-of-type {\n",
       "        vertical-align: middle;\n",
       "    }\n",
       "\n",
       "    .dataframe tbody tr th {\n",
       "        vertical-align: top;\n",
       "    }\n",
       "\n",
       "    .dataframe thead th {\n",
       "        text-align: right;\n",
       "    }\n",
       "</style>\n",
       "<table border=\"1\" class=\"dataframe\">\n",
       "  <thead>\n",
       "    <tr style=\"text-align: right;\">\n",
       "      <th></th>\n",
       "      <th>Start</th>\n",
       "      <th>End</th>\n",
       "      <th>Pollster</th>\n",
       "      <th>Sponsor</th>\n",
       "      <th>SampleSize</th>\n",
       "      <th>Pop</th>\n",
       "      <th>tracking</th>\n",
       "      <th>Text</th>\n",
       "      <th>Category</th>\n",
       "      <th>Include?</th>\n",
       "      <th>...</th>\n",
       "      <th>Rep No</th>\n",
       "      <th>Dem Sample</th>\n",
       "      <th>Dem Yes</th>\n",
       "      <th>Dem No</th>\n",
       "      <th>Ind Sample</th>\n",
       "      <th>Ind Yes</th>\n",
       "      <th>Ind No</th>\n",
       "      <th>URL</th>\n",
       "      <th>Notes</th>\n",
       "      <th>real_yes_estimate</th>\n",
       "    </tr>\n",
       "  </thead>\n",
       "  <tbody>\n",
       "    <tr>\n",
       "      <th>0</th>\n",
       "      <td>6/28/2019</td>\n",
       "      <td>7/1/2019</td>\n",
       "      <td>ABC News/Washington Post</td>\n",
       "      <td>NaN</td>\n",
       "      <td>1008</td>\n",
       "      <td>a</td>\n",
       "      <td>NaN</td>\n",
       "      <td>Based on what you know, do you think Congress ...</td>\n",
       "      <td>begin_proceedings</td>\n",
       "      <td>yes</td>\n",
       "      <td>...</td>\n",
       "      <td>87.0</td>\n",
       "      <td>292.0</td>\n",
       "      <td>61.0</td>\n",
       "      <td>36.0</td>\n",
       "      <td>373.0</td>\n",
       "      <td>37.0</td>\n",
       "      <td>59.0</td>\n",
       "      <td>https://games-cdn.washingtonpost.com/notes/pro...</td>\n",
       "      <td>NaN</td>\n",
       "      <td>35.79057</td>\n",
       "    </tr>\n",
       "    <tr>\n",
       "      <th>1</th>\n",
       "      <td>4/22/2019</td>\n",
       "      <td>4/25/2019</td>\n",
       "      <td>ABC News/Washington Post</td>\n",
       "      <td>NaN</td>\n",
       "      <td>1001</td>\n",
       "      <td>a</td>\n",
       "      <td>NaN</td>\n",
       "      <td>Based on what you know, do you think Congress ...</td>\n",
       "      <td>begin_proceedings</td>\n",
       "      <td>yes</td>\n",
       "      <td>...</td>\n",
       "      <td>87.0</td>\n",
       "      <td>290.0</td>\n",
       "      <td>62.0</td>\n",
       "      <td>29.0</td>\n",
       "      <td>360.0</td>\n",
       "      <td>36.0</td>\n",
       "      <td>59.0</td>\n",
       "      <td>https://games-cdn.washingtonpost.com/notes/pro...</td>\n",
       "      <td>NaN</td>\n",
       "      <td>35.27876</td>\n",
       "    </tr>\n",
       "    <tr>\n",
       "      <th>2</th>\n",
       "      <td>1/21/2019</td>\n",
       "      <td>1/24/2019</td>\n",
       "      <td>ABC News/Washington Post</td>\n",
       "      <td>NaN</td>\n",
       "      <td>1001</td>\n",
       "      <td>a</td>\n",
       "      <td>NaN</td>\n",
       "      <td>Based on what you know, do you think Congress ...</td>\n",
       "      <td>begin_proceedings</td>\n",
       "      <td>yes</td>\n",
       "      <td>...</td>\n",
       "      <td>90.0</td>\n",
       "      <td>320.0</td>\n",
       "      <td>64.0</td>\n",
       "      <td>30.0</td>\n",
       "      <td>370.0</td>\n",
       "      <td>42.0</td>\n",
       "      <td>53.0</td>\n",
       "      <td>langerresearch.com/wp-content/uploads/1204a2Tr...</td>\n",
       "      <td>NaN</td>\n",
       "      <td>38.46307</td>\n",
       "    </tr>\n",
       "    <tr>\n",
       "      <th>3</th>\n",
       "      <td>8/26/2018</td>\n",
       "      <td>8/29/2018</td>\n",
       "      <td>ABC News/Washington Post</td>\n",
       "      <td>NaN</td>\n",
       "      <td>1003</td>\n",
       "      <td>a</td>\n",
       "      <td>NaN</td>\n",
       "      <td>Based on what you know, do you think Congress ...</td>\n",
       "      <td>begin_proceedings</td>\n",
       "      <td>yes</td>\n",
       "      <td>...</td>\n",
       "      <td>82.0</td>\n",
       "      <td>331.0</td>\n",
       "      <td>75.0</td>\n",
       "      <td>21.0</td>\n",
       "      <td>371.0</td>\n",
       "      <td>49.0</td>\n",
       "      <td>46.0</td>\n",
       "      <td>https://www.langerresearch.com/wp-content/uplo...</td>\n",
       "      <td>NaN</td>\n",
       "      <td>46.47317</td>\n",
       "    </tr>\n",
       "    <tr>\n",
       "      <th>4</th>\n",
       "      <td>6/8/2019</td>\n",
       "      <td>6/12/2019</td>\n",
       "      <td>Civiqs</td>\n",
       "      <td>NaN</td>\n",
       "      <td>1559</td>\n",
       "      <td>rv</td>\n",
       "      <td>NaN</td>\n",
       "      <td>Do you think the House of Representatives shou...</td>\n",
       "      <td>begin_inquiry</td>\n",
       "      <td>yes</td>\n",
       "      <td>...</td>\n",
       "      <td>93.0</td>\n",
       "      <td>577.0</td>\n",
       "      <td>77.0</td>\n",
       "      <td>15.0</td>\n",
       "      <td>499.0</td>\n",
       "      <td>41.0</td>\n",
       "      <td>53.0</td>\n",
       "      <td>https://civiqs.com/documents/Civiqs_DailyKos_m...</td>\n",
       "      <td>NaN</td>\n",
       "      <td>36.11217</td>\n",
       "    </tr>\n",
       "  </tbody>\n",
       "</table>\n",
       "<p>5 rows × 25 columns</p>\n",
       "</div>"
      ],
      "text/plain": [
       "       Start        End                  Pollster Sponsor  SampleSize Pop  \\\n",
       "0  6/28/2019   7/1/2019  ABC News/Washington Post     NaN        1008   a   \n",
       "1  4/22/2019  4/25/2019  ABC News/Washington Post     NaN        1001   a   \n",
       "2  1/21/2019  1/24/2019  ABC News/Washington Post     NaN        1001   a   \n",
       "3  8/26/2018  8/29/2018  ABC News/Washington Post     NaN        1003   a   \n",
       "4   6/8/2019  6/12/2019                    Civiqs     NaN        1559  rv   \n",
       "\n",
       "  tracking                                               Text  \\\n",
       "0      NaN  Based on what you know, do you think Congress ...   \n",
       "1      NaN  Based on what you know, do you think Congress ...   \n",
       "2      NaN  Based on what you know, do you think Congress ...   \n",
       "3      NaN  Based on what you know, do you think Congress ...   \n",
       "4      NaN  Do you think the House of Representatives shou...   \n",
       "\n",
       "            Category Include?  ...  Rep No  Dem Sample  Dem Yes  Dem No  \\\n",
       "0  begin_proceedings      yes  ...    87.0       292.0     61.0    36.0   \n",
       "1  begin_proceedings      yes  ...    87.0       290.0     62.0    29.0   \n",
       "2  begin_proceedings      yes  ...    90.0       320.0     64.0    30.0   \n",
       "3  begin_proceedings      yes  ...    82.0       331.0     75.0    21.0   \n",
       "4      begin_inquiry      yes  ...    93.0       577.0     77.0    15.0   \n",
       "\n",
       "   Ind Sample  Ind Yes  Ind No  \\\n",
       "0       373.0     37.0    59.0   \n",
       "1       360.0     36.0    59.0   \n",
       "2       370.0     42.0    53.0   \n",
       "3       371.0     49.0    46.0   \n",
       "4       499.0     41.0    53.0   \n",
       "\n",
       "                                                 URL  Notes  real_yes_estimate  \n",
       "0  https://games-cdn.washingtonpost.com/notes/pro...    NaN           35.79057  \n",
       "1  https://games-cdn.washingtonpost.com/notes/pro...    NaN           35.27876  \n",
       "2  langerresearch.com/wp-content/uploads/1204a2Tr...    NaN           38.46307  \n",
       "3  https://www.langerresearch.com/wp-content/uplo...    NaN           46.47317  \n",
       "4  https://civiqs.com/documents/Civiqs_DailyKos_m...    NaN           36.11217  \n",
       "\n",
       "[5 rows x 25 columns]"
      ]
     },
     "execution_count": 8,
     "metadata": {},
     "output_type": "execute_result"
    }
   ],
   "source": [
    "# объединение файлов в один набор данных\n",
    "for index, row in data.iterrows():\n",
    "    try:\n",
    "        if (row['Category'] == 'begin_proceedings') or (row['Category'] == 'begin_inquiry') or (row['Category'] == 'reasons') or (row['Category'] == 'consider'):\n",
    "            data.at[index, 'real_yes_estimate'] = data2.loc[(data2['modeldate'] == row['End']) & (data2['party'] == 'all') & (data2['category_group'] == 'begin'), 'yes_estimate'].values[0]\n",
    "        elif row['Category'] == 'impeach':\n",
    "            data.at[index, 'real_yes_estimate'] = data2.loc[(data2['modeldate'] == row['End']) & (data2['party'] == 'all') & (data2['category_group'] == 'impeach'), 'yes_estimate'].values[0]\n",
    "        elif (row['Category'] == 'impeach_and_remove') or (row['Category'] == 'remove'):\n",
    "            data.at[index, 'real_yes_estimate'] = data2.loc[(data2['modeldate'] == row['End']) & (data2['party'] == 'all') & (data2['category_group'] == 'remove'), 'yes_estimate'].values[0]\n",
    "        elif row['Category'] == 'if_impeach_then_remove':\n",
    "            data.at[index, 'real_yes_estimate'] = data2.loc[(data2['modeldate'] == row['End']) & (data2['party'] == 'all') & (data2['category_group'] == 'all'), 'yes_estimate'].values[0]\n",
    "        else:\n",
    "            data.at[index, 'real_yes_estimate'] = np.nan\n",
    "    except IndexError:\n",
    "        data.at[index, 'real_yes_estimate'] = np.nan\n",
    "# удаление ненужного в дальнейшем датасета\n",
    "del data2\n",
    "# первые 5 строк итогового набора данных\n",
    "data.head()"
   ]
  },
  {
   "cell_type": "code",
   "execution_count": 9,
   "metadata": {},
   "outputs": [
    {
     "data": {
      "text/plain": [
       "Start                 object\n",
       "End                   object\n",
       "Pollster              object\n",
       "Sponsor               object\n",
       "SampleSize             int64\n",
       "Pop                   object\n",
       "tracking              object\n",
       "Text                  object\n",
       "Category              object\n",
       "Include?              object\n",
       "Yes                  float64\n",
       "No                   float64\n",
       "Unsure               float64\n",
       "Rep Sample           float64\n",
       "Rep Yes              float64\n",
       "Rep No               float64\n",
       "Dem Sample           float64\n",
       "Dem Yes              float64\n",
       "Dem No               float64\n",
       "Ind Sample           float64\n",
       "Ind Yes              float64\n",
       "Ind No               float64\n",
       "URL                   object\n",
       "Notes                 object\n",
       "real_yes_estimate    float64\n",
       "dtype: object"
      ]
     },
     "execution_count": 9,
     "metadata": {},
     "output_type": "execute_result"
    }
   ],
   "source": [
    "# список колонок с типами данных\n",
    "data.dtypes"
   ]
  },
  {
   "cell_type": "code",
   "execution_count": 10,
   "metadata": {},
   "outputs": [],
   "source": [
    "# удаление лишних колонок\n",
    "data.drop(['Start', 'End', 'Text', 'URL', 'Notes'], inplace=True, axis=1)"
   ]
  },
  {
   "cell_type": "markdown",
   "metadata": {},
   "source": [
    "## Обработка пропусков в данных:"
   ]
  },
  {
   "cell_type": "code",
   "execution_count": 11,
   "metadata": {},
   "outputs": [
    {
     "data": {
      "text/plain": [
       "Pollster               0\n",
       "Sponsor              266\n",
       "SampleSize             0\n",
       "Pop                    0\n",
       "tracking             428\n",
       "Category               1\n",
       "Include?               0\n",
       "Yes                    0\n",
       "No                     0\n",
       "Unsure                21\n",
       "Rep Sample            67\n",
       "Rep Yes               33\n",
       "Rep No                50\n",
       "Dem Sample            65\n",
       "Dem Yes               27\n",
       "Dem No                51\n",
       "Ind Sample           133\n",
       "Ind Yes               95\n",
       "Ind No               112\n",
       "real_yes_estimate     45\n",
       "dtype: int64"
      ]
     },
     "execution_count": 11,
     "metadata": {},
     "output_type": "execute_result"
    }
   ],
   "source": [
    "# проверим, есть ли пропущенные значения\n",
    "data.isnull().sum()"
   ]
  },
  {
   "cell_type": "code",
   "execution_count": 12,
   "metadata": {},
   "outputs": [],
   "source": [
    "# удаление колонок с большим количеством пропущенных значений\n",
    "data.drop(['Sponsor', 'tracking'], inplace=True, axis=1)"
   ]
  },
  {
   "cell_type": "code",
   "execution_count": 13,
   "metadata": {},
   "outputs": [],
   "source": [
    "# заполнение колонки с малым количеством пропущенных значений нулями, логически не противоречащих датасету\n",
    "data['Unsure'].fillna(0, inplace=True)"
   ]
  },
  {
   "cell_type": "code",
   "execution_count": 14,
   "metadata": {},
   "outputs": [
    {
     "data": {
      "text/plain": [
       "(497, 18)"
      ]
     },
     "execution_count": 14,
     "metadata": {},
     "output_type": "execute_result"
    }
   ],
   "source": [
    "# удаление строк, содержащих пустые значения в колонке целевого признака\n",
    "data.dropna(axis=0, subset=['real_yes_estimate'], inplace=True)\n",
    "# размер данных\n",
    "data.shape"
   ]
  },
  {
   "cell_type": "markdown",
   "metadata": {},
   "source": [
    "### \"Внедрение значений\" - импьютация (imputation)"
   ]
  },
  {
   "cell_type": "code",
   "execution_count": 15,
   "metadata": {
    "scrolled": true
   },
   "outputs": [
    {
     "data": {
      "image/png": "[encoded data removed]",
      "text/plain": [
       "<Figure size 432x288 with 1 Axes>"
      ]
     },
     "metadata": {
      "needs_background": "light"
     },
     "output_type": "display_data"
    },
    {
     "data": {
      "image/png": "[encoded data removed]",
      "text/plain": [
       "<Figure size 432x288 with 1 Axes>"
      ]
     },
     "metadata": {
      "needs_background": "light"
     },
     "output_type": "display_data"
    },
    {
     "data": {
      "image/png": "[encoded data removed]",
      "text/plain": [
       "<Figure size 432x288 with 1 Axes>"
      ]
     },
     "metadata": {
      "needs_background": "light"
     },
     "output_type": "display_data"
    },
    {
     "data": {
      "image/png": "[encoded data removed]",
      "text/plain": [
       "<Figure size 432x288 with 1 Axes>"
      ]
     },
     "metadata": {
      "needs_background": "light"
     },
     "output_type": "display_data"
    },
    {
     "data": {
      "image/png": "[encoded data removed]",
      "text/plain": [
       "<Figure size 432x288 with 1 Axes>"
      ]
     },
     "metadata": {
      "needs_background": "light"
     },
     "output_type": "display_data"
    },
    {
     "data": {
      "image/png": "[encoded data removed]",
      "text/plain": [
       "<Figure size 432x288 with 1 Axes>"
      ]
     },
     "metadata": {
      "needs_background": "light"
     },
     "output_type": "display_data"
    },
    {
     "data": {
      "image/png": "[encoded data removed]",
      "text/plain": [
       "<Figure size 432x288 with 1 Axes>"
      ]
     },
     "metadata": {
      "needs_background": "light"
     },
     "output_type": "display_data"
    },
    {
     "data": {
      "image/png": "[encoded data removed]",
      "text/plain": [
       "<Figure size 432x288 with 1 Axes>"
      ]
     },
     "metadata": {
      "needs_background": "light"
     },
     "output_type": "display_data"
    },
    {
     "data": {
      "image/png": "[encoded data removed]",
      "text/plain": [
       "<Figure size 432x288 with 1 Axes>"
      ]
     },
     "metadata": {
      "needs_background": "light"
     },
     "output_type": "display_data"
    }
   ],
   "source": [
    "# список колонок с числовыми данными\n",
    "num_cols = ['Rep Sample', 'Rep Yes', 'Rep No', 'Dem Sample', 'Dem Yes', 'Dem No', 'Ind Sample', 'Ind Yes', 'Ind No']\n",
    "# Гистограмма по признакам\n",
    "for col in data[num_cols]:\n",
    "    plt.hist(data[col], 50)\n",
    "    plt.xlabel(col)\n",
    "    plt.show()"
   ]
  },
  {
   "cell_type": "code",
   "execution_count": 16,
   "metadata": {},
   "outputs": [],
   "source": [
    "from sklearn.impute import SimpleImputer"
   ]
  },
  {
   "cell_type": "code",
   "execution_count": 17,
   "metadata": {},
   "outputs": [],
   "source": [
    "# Импьютация столбцов стратегией 'медиана'\n",
    "imp_med = SimpleImputer(missing_values=np.nan, strategy='median')\n",
    "data.loc[:, 'Rep Yes'] = imp_med.fit_transform(data[['Rep Yes']])\n",
    "data.loc[:, 'Rep No'] = imp_med.fit_transform(data[['Rep No']])\n",
    "data.loc[:, 'Dem Yes'] = imp_med.fit_transform(data[['Dem Yes']])\n",
    "data.loc[:, 'Dem No'] = imp_med.fit_transform(data[['Dem No']])\n",
    "data.loc[:, 'Ind Yes'] = imp_med.fit_transform(data[['Ind Yes']])\n",
    "data.loc[:, 'Ind No'] = imp_med.fit_transform(data[['Ind No']])"
   ]
  },
  {
   "cell_type": "code",
   "execution_count": 18,
   "metadata": {},
   "outputs": [],
   "source": [
    "# Импьютация остальных столбцов стратегией 'мода'\n",
    "imp_mod = SimpleImputer(missing_values=np.NaN, strategy='most_frequent')\n",
    "data.loc[:, 'Rep Sample'] = imp_mod.fit_transform(data[['Rep Sample']])\n",
    "data.loc[:, 'Dem Sample'] = imp_mod.fit_transform(data[['Dem Sample']])\n",
    "data.loc[:, 'Ind Sample'] = imp_mod.fit_transform(data[['Ind Sample']])"
   ]
  },
  {
   "cell_type": "code",
   "execution_count": 19,
   "metadata": {},
   "outputs": [
    {
     "data": {
      "text/plain": [
       "Pollster             0\n",
       "SampleSize           0\n",
       "Pop                  0\n",
       "Category             0\n",
       "Include?             0\n",
       "Yes                  0\n",
       "No                   0\n",
       "Unsure               0\n",
       "Rep Sample           0\n",
       "Rep Yes              0\n",
       "Rep No               0\n",
       "Dem Sample           0\n",
       "Dem Yes              0\n",
       "Dem No               0\n",
       "Ind Sample           0\n",
       "Ind Yes              0\n",
       "Ind No               0\n",
       "real_yes_estimate    0\n",
       "dtype: int64"
      ]
     },
     "execution_count": 19,
     "metadata": {},
     "output_type": "execute_result"
    }
   ],
   "source": [
    "# проверим, есть ли пропущенные значения\n",
    "data.isnull().sum()"
   ]
  },
  {
   "cell_type": "markdown",
   "metadata": {},
   "source": [
    "## Масштабирование данных:\n",
    "### MinMax масштабирование"
   ]
  },
  {
   "cell_type": "code",
   "execution_count": 20,
   "metadata": {},
   "outputs": [],
   "source": [
    "from sklearn.preprocessing import MinMaxScaler"
   ]
  },
  {
   "cell_type": "code",
   "execution_count": 21,
   "metadata": {},
   "outputs": [
    {
     "data": {
      "image/png": "[encoded data removed]",
      "text/plain": [
       "<Figure size 432x288 with 1 Axes>"
      ]
     },
     "metadata": {
      "needs_background": "light"
     },
     "output_type": "display_data"
    },
    {
     "data": {
      "image/png": "[encoded data removed]",
      "text/plain": [
       "<Figure size 432x288 with 1 Axes>"
      ]
     },
     "metadata": {
      "needs_background": "light"
     },
     "output_type": "display_data"
    },
    {
     "data": {
      "image/png": "[encoded data removed]",
      "text/plain": [
       "<Figure size 432x288 with 1 Axes>"
      ]
     },
     "metadata": {
      "needs_background": "light"
     },
     "output_type": "display_data"
    },
    {
     "data": {
      "image/png": "[encoded data removed]",
      "text/plain": [
       "<Figure size 432x288 with 1 Axes>"
      ]
     },
     "metadata": {
      "needs_background": "light"
     },
     "output_type": "display_data"
    },
    {
     "data": {
      "image/png": "[encoded data removed]",
      "text/plain": [
       "<Figure size 432x288 with 1 Axes>"
      ]
     },
     "metadata": {
      "needs_background": "light"
     },
     "output_type": "display_data"
    },
    {
     "data": {
      "image/png": "[encoded data removed]",
      "text/plain": [
       "<Figure size 432x288 with 1 Axes>"
      ]
     },
     "metadata": {
      "needs_background": "light"
     },
     "output_type": "display_data"
    },
    {
     "data": {
      "image/png": "[encoded data removed]",
      "text/plain": [
       "<Figure size 432x288 with 1 Axes>"
      ]
     },
     "metadata": {
      "needs_background": "light"
     },
     "output_type": "display_data"
    },
    {
     "data": {
      "image/png": "[encoded data removed]",
      "text/plain": [
       "<Figure size 432x288 with 1 Axes>"
      ]
     },
     "metadata": {
      "needs_background": "light"
     },
     "output_type": "display_data"
    },
    {
     "data": {
      "image/png": "[encoded data removed]",
      "text/plain": [
       "<Figure size 432x288 with 1 Axes>"
      ]
     },
     "metadata": {
      "needs_background": "light"
     },
     "output_type": "display_data"
    },
    {
     "data": {
      "image/png": "[encoded data removed]",
      "text/plain": [
       "<Figure size 432x288 with 1 Axes>"
      ]
     },
     "metadata": {
      "needs_background": "light"
     },
     "output_type": "display_data"
    },
    {
     "data": {
      "image/png": "[encoded data removed]",
      "text/plain": [
       "<Figure size 432x288 with 1 Axes>"
      ]
     },
     "metadata": {
      "needs_background": "light"
     },
     "output_type": "display_data"
    },
    {
     "data": {
      "image/png": "[encoded data removed]",
      "text/plain": [
       "<Figure size 432x288 with 1 Axes>"
      ]
     },
     "metadata": {
      "needs_background": "light"
     },
     "output_type": "display_data"
    },
    {
     "data": {
      "image/png": "[encoded data removed]",
      "text/plain": [
       "<Figure size 432x288 with 1 Axes>"
      ]
     },
     "metadata": {
      "needs_background": "light"
     },
     "output_type": "display_data"
    }
   ],
   "source": [
    "# список колонок с числовыми данными\n",
    "num_cols = ['SampleSize', 'Yes', 'No', 'Unsure', 'Rep Sample', 'Rep Yes', 'Rep No', 'Dem Sample', 'Dem Yes', 'Dem No', 'Ind Sample', 'Ind Yes', 'Ind No']\n",
    "# Гистограмма по признакам\n",
    "for col in data[num_cols]:\n",
    "    plt.hist(data[col], 50)\n",
    "    plt.xlabel(col)\n",
    "    plt.show()"
   ]
  },
  {
   "cell_type": "code",
   "execution_count": 22,
   "metadata": {},
   "outputs": [],
   "source": [
    "# MinMax масштабирование\n",
    "sc1 = MinMaxScaler()\n",
    "for item in num_cols:\n",
    "    data.loc[:, item] = sc1.fit_transform(data[[item]])"
   ]
  },
  {
   "cell_type": "code",
   "execution_count": 23,
   "metadata": {},
   "outputs": [
    {
     "data": {
      "image/png": "[encoded data removed]",
      "text/plain": [
       "<Figure size 432x288 with 1 Axes>"
      ]
     },
     "metadata": {
      "needs_background": "light"
     },
     "output_type": "display_data"
    },
    {
     "data": {
      "image/png": "[encoded data removed]",
      "text/plain": [
       "<Figure size 432x288 with 1 Axes>"
      ]
     },
     "metadata": {
      "needs_background": "light"
     },
     "output_type": "display_data"
    },
    {
     "data": {
      "image/png": "[encoded data removed]",
      "text/plain": [
       "<Figure size 432x288 with 1 Axes>"
      ]
     },
     "metadata": {
      "needs_background": "light"
     },
     "output_type": "display_data"
    },
    {
     "data": {
      "image/png": "[encoded data removed]",
      "text/plain": [
       "<Figure size 432x288 with 1 Axes>"
      ]
     },
     "metadata": {
      "needs_background": "light"
     },
     "output_type": "display_data"
    },
    {
     "data": {
      "image/png": "[encoded data removed]",
      "text/plain": [
       "<Figure size 432x288 with 1 Axes>"
      ]
     },
     "metadata": {
      "needs_background": "light"
     },
     "output_type": "display_data"
    },
    {
     "data": {
      "image/png": "[encoded data removed]",
      "text/plain": [
       "<Figure size 432x288 with 1 Axes>"
      ]
     },
     "metadata": {
      "needs_background": "light"
     },
     "output_type": "display_data"
    },
    {
     "data": {
      "image/png": "[encoded data removed]",
      "text/plain": [
       "<Figure size 432x288 with 1 Axes>"
      ]
     },
     "metadata": {
      "needs_background": "light"
     },
     "output_type": "display_data"
    },
    {
     "data": {
      "image/png": "[encoded data removed]",
      "text/plain": [
       "<Figure size 432x288 with 1 Axes>"
      ]
     },
     "metadata": {
      "needs_background": "light"
     },
     "output_type": "display_data"
    },
    {
     "data": {
      "image/png": "[encoded data removed]",
      "text/plain": [
       "<Figure size 432x288 with 1 Axes>"
      ]
     },
     "metadata": {
      "needs_background": "light"
     },
     "output_type": "display_data"
    },
    {
     "data": {
      "image/png": "[encoded data removed]",
      "text/plain": [
       "<Figure size 432x288 with 1 Axes>"
      ]
     },
     "metadata": {
      "needs_background": "light"
     },
     "output_type": "display_data"
    },
    {
     "data": {
      "image/png": "[encoded data removed]",
      "text/plain": [
       "<Figure size 432x288 with 1 Axes>"
      ]
     },
     "metadata": {
      "needs_background": "light"
     },
     "output_type": "display_data"
    },
    {
     "data": {
      "image/png": "[encoded data removed]",
      "text/plain": [
       "<Figure size 432x288 with 1 Axes>"
      ]
     },
     "metadata": {
      "needs_background": "light"
     },
     "output_type": "display_data"
    },
    {
     "data": {
      "image/png": "[encoded data removed]",
      "text/plain": [
       "<Figure size 432x288 with 1 Axes>"
      ]
     },
     "metadata": {
      "needs_background": "light"
     },
     "output_type": "display_data"
    }
   ],
   "source": [
    "# Гистограмма по отмасштабированным признакам\n",
    "for col in data[num_cols]:\n",
    "    plt.hist(data[col], 50)\n",
    "    plt.xlabel(col)\n",
    "    plt.show()"
   ]
  },
  {
   "cell_type": "markdown",
   "metadata": {},
   "source": [
    "## Кодирование категориальных признаков:"
   ]
  },
  {
   "cell_type": "code",
   "execution_count": 24,
   "metadata": {},
   "outputs": [
    {
     "name": "stdout",
     "output_type": "stream",
     "text": [
      "Колонка Pollster. Тип данных object. Количество уникальных значений 35.\n",
      "Колонка Pop. Тип данных object. Количество уникальных значений 3.\n",
      "Колонка Category. Тип данных object. Количество уникальных значений 8.\n",
      "Колонка Include?. Тип данных object. Количество уникальных значений 2.\n"
     ]
    }
   ],
   "source": [
    "# Выберем категориальные колонки\n",
    "# Цикл по колонкам датасета\n",
    "for col in data.columns:\n",
    "    dt = str(data[col].dtype)\n",
    "    if dt=='object':\n",
    "        temp_un = data[col].nunique()\n",
    "        print('Колонка {}. Тип данных {}. Количество уникальных значений {}.'.format(col, dt, temp_un))"
   ]
  },
  {
   "cell_type": "markdown",
   "metadata": {},
   "source": [
    "### Кодирование категорий целочисленными значениями - label encoding"
   ]
  },
  {
   "cell_type": "code",
   "execution_count": 25,
   "metadata": {},
   "outputs": [],
   "source": [
    "from sklearn.preprocessing import LabelEncoder"
   ]
  },
  {
   "cell_type": "code",
   "execution_count": 26,
   "metadata": {},
   "outputs": [
    {
     "data": {
      "text/plain": [
       "0    0\n",
       "1    0\n",
       "2    0\n",
       "3    0\n",
       "4    6\n",
       "Name: Pollster, dtype: int32"
      ]
     },
     "execution_count": 26,
     "metadata": {},
     "output_type": "execute_result"
    }
   ],
   "source": [
    "le = LabelEncoder()\n",
    "data.loc[:, 'Pollster'] = le.fit_transform(data['Pollster'])\n",
    "data['Pollster'].head()"
   ]
  },
  {
   "cell_type": "markdown",
   "metadata": {},
   "source": [
    "### Кодирование категорий наборами бинарных значений - one-hot encoding"
   ]
  },
  {
   "cell_type": "code",
   "execution_count": 27,
   "metadata": {},
   "outputs": [
    {
     "data": {
      "text/html": [
       "<div>\n",
       "<style scoped>\n",
       "    .dataframe tbody tr th:only-of-type {\n",
       "        vertical-align: middle;\n",
       "    }\n",
       "\n",
       "    .dataframe tbody tr th {\n",
       "        vertical-align: top;\n",
       "    }\n",
       "\n",
       "    .dataframe thead th {\n",
       "        text-align: right;\n",
       "    }\n",
       "</style>\n",
       "<table border=\"1\" class=\"dataframe\">\n",
       "  <thead>\n",
       "    <tr style=\"text-align: right;\">\n",
       "      <th></th>\n",
       "      <th>Pop_a</th>\n",
       "      <th>Pop_lv</th>\n",
       "      <th>Pop_rv</th>\n",
       "      <th>Category_begin_inquiry</th>\n",
       "      <th>Category_begin_proceedings</th>\n",
       "      <th>Category_consider</th>\n",
       "      <th>Category_if_impeach_then_remove</th>\n",
       "      <th>Category_impeach</th>\n",
       "      <th>Category_impeach_and_remove</th>\n",
       "      <th>Category_reasons</th>\n",
       "      <th>Category_remove</th>\n",
       "      <th>Include?_no</th>\n",
       "      <th>Include?_yes</th>\n",
       "    </tr>\n",
       "  </thead>\n",
       "  <tbody>\n",
       "    <tr>\n",
       "      <th>0</th>\n",
       "      <td>1</td>\n",
       "      <td>0</td>\n",
       "      <td>0</td>\n",
       "      <td>0</td>\n",
       "      <td>1</td>\n",
       "      <td>0</td>\n",
       "      <td>0</td>\n",
       "      <td>0</td>\n",
       "      <td>0</td>\n",
       "      <td>0</td>\n",
       "      <td>0</td>\n",
       "      <td>0</td>\n",
       "      <td>1</td>\n",
       "    </tr>\n",
       "    <tr>\n",
       "      <th>1</th>\n",
       "      <td>1</td>\n",
       "      <td>0</td>\n",
       "      <td>0</td>\n",
       "      <td>0</td>\n",
       "      <td>1</td>\n",
       "      <td>0</td>\n",
       "      <td>0</td>\n",
       "      <td>0</td>\n",
       "      <td>0</td>\n",
       "      <td>0</td>\n",
       "      <td>0</td>\n",
       "      <td>0</td>\n",
       "      <td>1</td>\n",
       "    </tr>\n",
       "    <tr>\n",
       "      <th>2</th>\n",
       "      <td>1</td>\n",
       "      <td>0</td>\n",
       "      <td>0</td>\n",
       "      <td>0</td>\n",
       "      <td>1</td>\n",
       "      <td>0</td>\n",
       "      <td>0</td>\n",
       "      <td>0</td>\n",
       "      <td>0</td>\n",
       "      <td>0</td>\n",
       "      <td>0</td>\n",
       "      <td>0</td>\n",
       "      <td>1</td>\n",
       "    </tr>\n",
       "    <tr>\n",
       "      <th>3</th>\n",
       "      <td>1</td>\n",
       "      <td>0</td>\n",
       "      <td>0</td>\n",
       "      <td>0</td>\n",
       "      <td>1</td>\n",
       "      <td>0</td>\n",
       "      <td>0</td>\n",
       "      <td>0</td>\n",
       "      <td>0</td>\n",
       "      <td>0</td>\n",
       "      <td>0</td>\n",
       "      <td>0</td>\n",
       "      <td>1</td>\n",
       "    </tr>\n",
       "    <tr>\n",
       "      <th>4</th>\n",
       "      <td>0</td>\n",
       "      <td>0</td>\n",
       "      <td>1</td>\n",
       "      <td>1</td>\n",
       "      <td>0</td>\n",
       "      <td>0</td>\n",
       "      <td>0</td>\n",
       "      <td>0</td>\n",
       "      <td>0</td>\n",
       "      <td>0</td>\n",
       "      <td>0</td>\n",
       "      <td>0</td>\n",
       "      <td>1</td>\n",
       "    </tr>\n",
       "  </tbody>\n",
       "</table>\n",
       "</div>"
      ],
      "text/plain": [
       "   Pop_a  Pop_lv  Pop_rv  Category_begin_inquiry  Category_begin_proceedings  \\\n",
       "0      1       0       0                       0                           1   \n",
       "1      1       0       0                       0                           1   \n",
       "2      1       0       0                       0                           1   \n",
       "3      1       0       0                       0                           1   \n",
       "4      0       0       1                       1                           0   \n",
       "\n",
       "   Category_consider  Category_if_impeach_then_remove  Category_impeach  \\\n",
       "0                  0                                0                 0   \n",
       "1                  0                                0                 0   \n",
       "2                  0                                0                 0   \n",
       "3                  0                                0                 0   \n",
       "4                  0                                0                 0   \n",
       "\n",
       "   Category_impeach_and_remove  Category_reasons  Category_remove  \\\n",
       "0                            0                 0                0   \n",
       "1                            0                 0                0   \n",
       "2                            0                 0                0   \n",
       "3                            0                 0                0   \n",
       "4                            0                 0                0   \n",
       "\n",
       "   Include?_no  Include?_yes  \n",
       "0            0             1  \n",
       "1            0             1  \n",
       "2            0             1  \n",
       "3            0             1  \n",
       "4            0             1  "
      ]
     },
     "execution_count": 27,
     "metadata": {},
     "output_type": "execute_result"
    }
   ],
   "source": [
    "cat_cols = ['Pop', 'Category', 'Include?']\n",
    "one_hot = pd.get_dummies(data[cat_cols].astype(str))\n",
    "one_hot.head()"
   ]
  },
  {
   "cell_type": "code",
   "execution_count": 28,
   "metadata": {},
   "outputs": [],
   "source": [
    "# Замена исходных категориальных колонок наборами бинарных значений\n",
    "data = data.join(one_hot)\n",
    "data.drop(columns=cat_cols, inplace=True)"
   ]
  },
  {
   "cell_type": "code",
   "execution_count": 29,
   "metadata": {},
   "outputs": [
    {
     "data": {
      "text/html": [
       "<div>\n",
       "<style scoped>\n",
       "    .dataframe tbody tr th:only-of-type {\n",
       "        vertical-align: middle;\n",
       "    }\n",
       "\n",
       "    .dataframe tbody tr th {\n",
       "        vertical-align: top;\n",
       "    }\n",
       "\n",
       "    .dataframe thead th {\n",
       "        text-align: right;\n",
       "    }\n",
       "</style>\n",
       "<table border=\"1\" class=\"dataframe\">\n",
       "  <thead>\n",
       "    <tr style=\"text-align: right;\">\n",
       "      <th></th>\n",
       "      <th>Pollster</th>\n",
       "      <th>SampleSize</th>\n",
       "      <th>Yes</th>\n",
       "      <th>No</th>\n",
       "      <th>Unsure</th>\n",
       "      <th>Rep Sample</th>\n",
       "      <th>Rep Yes</th>\n",
       "      <th>Rep No</th>\n",
       "      <th>Dem Sample</th>\n",
       "      <th>Dem Yes</th>\n",
       "      <th>...</th>\n",
       "      <th>Category_begin_inquiry</th>\n",
       "      <th>Category_begin_proceedings</th>\n",
       "      <th>Category_consider</th>\n",
       "      <th>Category_if_impeach_then_remove</th>\n",
       "      <th>Category_impeach</th>\n",
       "      <th>Category_impeach_and_remove</th>\n",
       "      <th>Category_reasons</th>\n",
       "      <th>Category_remove</th>\n",
       "      <th>Include?_no</th>\n",
       "      <th>Include?_yes</th>\n",
       "    </tr>\n",
       "  </thead>\n",
       "  <tbody>\n",
       "    <tr>\n",
       "      <th>0</th>\n",
       "      <td>0</td>\n",
       "      <td>0.034294</td>\n",
       "      <td>0.3</td>\n",
       "      <td>0.815789</td>\n",
       "      <td>0.142857</td>\n",
       "      <td>0.014654</td>\n",
       "      <td>0.185185</td>\n",
       "      <td>0.696970</td>\n",
       "      <td>0.018689</td>\n",
       "      <td>0.190476</td>\n",
       "      <td>...</td>\n",
       "      <td>0</td>\n",
       "      <td>1</td>\n",
       "      <td>0</td>\n",
       "      <td>0</td>\n",
       "      <td>0</td>\n",
       "      <td>0</td>\n",
       "      <td>0</td>\n",
       "      <td>0</td>\n",
       "      <td>0</td>\n",
       "      <td>1</td>\n",
       "    </tr>\n",
       "    <tr>\n",
       "      <th>1</th>\n",
       "      <td>0</td>\n",
       "      <td>0.033898</td>\n",
       "      <td>0.3</td>\n",
       "      <td>0.736842</td>\n",
       "      <td>0.214286</td>\n",
       "      <td>0.018045</td>\n",
       "      <td>0.296296</td>\n",
       "      <td>0.696970</td>\n",
       "      <td>0.018397</td>\n",
       "      <td>0.214286</td>\n",
       "      <td>...</td>\n",
       "      <td>0</td>\n",
       "      <td>1</td>\n",
       "      <td>0</td>\n",
       "      <td>0</td>\n",
       "      <td>0</td>\n",
       "      <td>0</td>\n",
       "      <td>0</td>\n",
       "      <td>0</td>\n",
       "      <td>0</td>\n",
       "      <td>1</td>\n",
       "    </tr>\n",
       "    <tr>\n",
       "      <th>2</th>\n",
       "      <td>0</td>\n",
       "      <td>0.033898</td>\n",
       "      <td>0.4</td>\n",
       "      <td>0.710526</td>\n",
       "      <td>0.214286</td>\n",
       "      <td>0.015623</td>\n",
       "      <td>0.185185</td>\n",
       "      <td>0.787879</td>\n",
       "      <td>0.022777</td>\n",
       "      <td>0.261905</td>\n",
       "      <td>...</td>\n",
       "      <td>0</td>\n",
       "      <td>1</td>\n",
       "      <td>0</td>\n",
       "      <td>0</td>\n",
       "      <td>0</td>\n",
       "      <td>0</td>\n",
       "      <td>0</td>\n",
       "      <td>0</td>\n",
       "      <td>0</td>\n",
       "      <td>1</td>\n",
       "    </tr>\n",
       "    <tr>\n",
       "      <th>3</th>\n",
       "      <td>0</td>\n",
       "      <td>0.034011</td>\n",
       "      <td>0.7</td>\n",
       "      <td>0.473684</td>\n",
       "      <td>0.178571</td>\n",
       "      <td>0.016955</td>\n",
       "      <td>0.481481</td>\n",
       "      <td>0.545455</td>\n",
       "      <td>0.024383</td>\n",
       "      <td>0.523810</td>\n",
       "      <td>...</td>\n",
       "      <td>0</td>\n",
       "      <td>1</td>\n",
       "      <td>0</td>\n",
       "      <td>0</td>\n",
       "      <td>0</td>\n",
       "      <td>0</td>\n",
       "      <td>0</td>\n",
       "      <td>0</td>\n",
       "      <td>0</td>\n",
       "      <td>1</td>\n",
       "    </tr>\n",
       "    <tr>\n",
       "      <th>4</th>\n",
       "      <td>6</td>\n",
       "      <td>0.065424</td>\n",
       "      <td>0.5</td>\n",
       "      <td>0.605263</td>\n",
       "      <td>0.178571</td>\n",
       "      <td>0.045053</td>\n",
       "      <td>0.111111</td>\n",
       "      <td>0.878788</td>\n",
       "      <td>0.060301</td>\n",
       "      <td>0.571429</td>\n",
       "      <td>...</td>\n",
       "      <td>1</td>\n",
       "      <td>0</td>\n",
       "      <td>0</td>\n",
       "      <td>0</td>\n",
       "      <td>0</td>\n",
       "      <td>0</td>\n",
       "      <td>0</td>\n",
       "      <td>0</td>\n",
       "      <td>0</td>\n",
       "      <td>1</td>\n",
       "    </tr>\n",
       "  </tbody>\n",
       "</table>\n",
       "<p>5 rows × 28 columns</p>\n",
       "</div>"
      ],
      "text/plain": [
       "   Pollster  SampleSize  Yes        No    Unsure  Rep Sample   Rep Yes  \\\n",
       "0         0    0.034294  0.3  0.815789  0.142857    0.014654  0.185185   \n",
       "1         0    0.033898  0.3  0.736842  0.214286    0.018045  0.296296   \n",
       "2         0    0.033898  0.4  0.710526  0.214286    0.015623  0.185185   \n",
       "3         0    0.034011  0.7  0.473684  0.178571    0.016955  0.481481   \n",
       "4         6    0.065424  0.5  0.605263  0.178571    0.045053  0.111111   \n",
       "\n",
       "     Rep No  Dem Sample   Dem Yes  ...  Category_begin_inquiry  \\\n",
       "0  0.696970    0.018689  0.190476  ...                       0   \n",
       "1  0.696970    0.018397  0.214286  ...                       0   \n",
       "2  0.787879    0.022777  0.261905  ...                       0   \n",
       "3  0.545455    0.024383  0.523810  ...                       0   \n",
       "4  0.878788    0.060301  0.571429  ...                       1   \n",
       "\n",
       "   Category_begin_proceedings  Category_consider  \\\n",
       "0                           1                  0   \n",
       "1                           1                  0   \n",
       "2                           1                  0   \n",
       "3                           1                  0   \n",
       "4                           0                  0   \n",
       "\n",
       "   Category_if_impeach_then_remove  Category_impeach  \\\n",
       "0                                0                 0   \n",
       "1                                0                 0   \n",
       "2                                0                 0   \n",
       "3                                0                 0   \n",
       "4                                0                 0   \n",
       "\n",
       "   Category_impeach_and_remove  Category_reasons  Category_remove  \\\n",
       "0                            0                 0                0   \n",
       "1                            0                 0                0   \n",
       "2                            0                 0                0   \n",
       "3                            0                 0                0   \n",
       "4                            0                 0                0   \n",
       "\n",
       "   Include?_no  Include?_yes  \n",
       "0            0             1  \n",
       "1            0             1  \n",
       "2            0             1  \n",
       "3            0             1  \n",
       "4            0             1  \n",
       "\n",
       "[5 rows x 28 columns]"
      ]
     },
     "execution_count": 29,
     "metadata": {},
     "output_type": "execute_result"
    }
   ],
   "source": [
    "# первые 5 строк получившегося набора данных\n",
    "data.head()"
   ]
  },
  {
   "cell_type": "markdown",
   "metadata": {},
   "source": [
    "## Построение моделей:\n",
    "### Разделение выборки на обучающую и тестовую"
   ]
  },
  {
   "cell_type": "code",
   "execution_count": 30,
   "metadata": {},
   "outputs": [],
   "source": [
    "from sklearn.model_selection import train_test_split"
   ]
  },
  {
   "cell_type": "code",
   "execution_count": 31,
   "metadata": {},
   "outputs": [],
   "source": [
    "data_train, data_test, data_y_train, data_y_test = train_test_split(data[data.columns.drop('real_yes_estimate')], data['real_yes_estimate'], random_state=1)"
   ]
  },
  {
   "cell_type": "markdown",
   "metadata": {},
   "source": [
    "### Модель \"Дерево решений\""
   ]
  },
  {
   "cell_type": "code",
   "execution_count": 32,
   "metadata": {},
   "outputs": [],
   "source": [
    "from sklearn.tree import DecisionTreeRegressor"
   ]
  },
  {
   "cell_type": "code",
   "execution_count": 33,
   "metadata": {},
   "outputs": [],
   "source": [
    "dtc = DecisionTreeRegressor(random_state=1).fit(data_train, data_y_train)\n",
    "data_test_predicted_dtc = dtc.predict(data_test)"
   ]
  },
  {
   "cell_type": "markdown",
   "metadata": {},
   "source": [
    "### Модель \"Случайный лес\""
   ]
  },
  {
   "cell_type": "code",
   "execution_count": 34,
   "metadata": {},
   "outputs": [],
   "source": [
    "from sklearn.ensemble import RandomForestRegressor"
   ]
  },
  {
   "cell_type": "code",
   "execution_count": 35,
   "metadata": {},
   "outputs": [],
   "source": [
    "RF = RandomForestRegressor(random_state=1).fit(data_train, data_y_train)\n",
    "data_test_predicted_rf = RF.predict(data_test)"
   ]
  },
  {
   "cell_type": "markdown",
   "metadata": {},
   "source": [
    "## Оценка качества моделей:\n",
    "В качестве метрик для оценки качества моделей я использую **Mean squared error** (средняя квадратичная ошибка), как наиболее часто используемую метрику для оценки качества регрессии, и **метрику $R^2$** (коэффициент детерминации), потому что эта метрика является нормированной."
   ]
  },
  {
   "cell_type": "code",
   "execution_count": 36,
   "metadata": {},
   "outputs": [],
   "source": [
    "from sklearn.metrics import mean_squared_error, r2_score"
   ]
  },
  {
   "cell_type": "code",
   "execution_count": 37,
   "metadata": {},
   "outputs": [
    {
     "name": "stdout",
     "output_type": "stream",
     "text": [
      "Метрика MSE:\n",
      "Дерево решений: 7.644969145389171\n",
      "Случайный лес: 3.714740789719621\n"
     ]
    }
   ],
   "source": [
    "# Mean squared error - средняя квадратичная ошибка\n",
    "print('Метрика MSE:\\nДерево решений: {}\\nСлучайный лес: {}'.format(mean_squared_error(data_y_test, data_test_predicted_dtc), mean_squared_error(data_y_test, data_test_predicted_rf)))"
   ]
  },
  {
   "cell_type": "code",
   "execution_count": 38,
   "metadata": {},
   "outputs": [
    {
     "name": "stdout",
     "output_type": "stream",
     "text": [
      "Метрика R²:\n",
      "Дерево решений: 0.6453846612213481\n",
      "Случайный лес: 0.8276900745353836\n"
     ]
    }
   ],
   "source": [
    "# 4) Метрика R2 или коэффициент детерминации\n",
    "print('Метрика R\\u00B2:\\nДерево решений: {}\\nСлучайный лес: {}'.format(r2_score(data_y_test, data_test_predicted_dtc), r2_score(data_y_test, data_test_predicted_rf)))"
   ]
  },
  {
   "cell_type": "markdown",
   "metadata": {},
   "source": [
    "## Выводы о качестве построенных моделей:\n",
    "Исходя из оценки качества построенных моделей можно увидеть, что модель \"Случайный лес\" лучше справляется с задачей по сравнению с моделью \"Дерево решений\", что может свидетельствовать о переобучении модели \"Дерево решений\"."
   ]
  }
 ],
 "metadata": {
  "kernelspec": {
   "display_name": "Python 3",
   "language": "python",
   "name": "python3"
  },
  "language_info": {
   "codemirror_mode": {
    "name": "ipython",
    "version": 3
   },
   "file_extension": ".py",
   "mimetype": "text/x-python",
   "name": "python",
   "nbconvert_exporter": "python",
   "pygments_lexer": "ipython3",
   "version": "3.8.5"
  }
 },
 "nbformat": 4,
 "nbformat_minor": 4
}
